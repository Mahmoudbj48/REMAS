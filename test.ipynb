{
 "cells": [
  {
   "cell_type": "code",
   "execution_count": 1,
   "id": "67b88bed",
   "metadata": {},
   "outputs": [],
   "source": [
    "from utils.qdrant_connection import upload_to_qdrant"
   ]
  },
  {
   "cell_type": "markdown",
   "id": "1a6233dc",
   "metadata": {},
   "source": [
    "## User Tests"
   ]
  },
  {
   "cell_type": "code",
   "execution_count": 2,
   "id": "1cba8fde",
   "metadata": {},
   "outputs": [
    {
     "name": "stdout",
     "output_type": "stream",
     "text": [
      "Running REMAS: run_user_parser_agent\n",
      "Agent Response: {'hard_attributes': {'state': ['Queens'], 'picture_url': None, 'price': 2800, 'num_bedrooms': 3, 'available_from': 'September 15'}, 'soft_attributes': 'spacious, near the subway, perfect for families, pet-friendly, close to schools'}\n"
     ]
    }
   ],
   "source": [
    "from config.llm_config import llm\n",
    "from agents.user_parser_agent import run_user_parser_agent\n",
    "\n",
    "print(\"Running REMAS: run_user_parser_agent\")\n",
    "user_input = input(\"Type your message: \")\n",
    "\n",
    "response = run_user_parser_agent(user_input=user_input, llm=llm)\n",
    "print(\"Agent Response:\", response)"
   ]
  },
  {
   "cell_type": "code",
   "execution_count": 2,
   "id": "6e64c3db",
   "metadata": {},
   "outputs": [
    {
     "name": "stdout",
     "output_type": "stream",
     "text": [
      "\n",
      "📌 Point ID: 488f9ccf-0fb9-fafc-ba70-b812e5891018\n",
      "Payload: {'listing_id': '488f9ccf0fb9fafcba70b812e5891018', 'state': ['Lower East Side'], 'picture_url': None, 'price': 1200, 'bedrooms': 1, 'available_from': 'December', 'soft_attributes': 'vibrant neighborhood, easy access to public transportation, plenty of dining and cultural options', 'source': 'user_query'}\n",
      "\n",
      "📌 Point ID: 709bf8fe-32ab-82fd-4830-9dd7ec8ec6f6\n",
      "Payload: {'listing_id': '709bf8fe32ab82fd48309dd7ec8ec6f6', 'state': ['Manhattan'], 'picture_url': None, 'price': None, 'bedrooms': 1, 'available_from': None, 'soft_attributes': 'convenient, close to restaurants and attractions', 'source': 'user_query'}\n",
      "\n",
      "📌 Point ID: fcd504a9-e040-33df-0277-245f3f1a0cf1\n",
      "Payload: {'listing_id': 'fcd504a9e04033df0277245f3f1a0cf1', 'state': ['Queens'], 'picture_url': None, 'price': 2800, 'bedrooms': 3, 'available_from': 'September 15', 'soft_attributes': 'spacious, near the subway, perfect for families, pet-friendly, close to schools'}\n"
     ]
    }
   ],
   "source": [
    "from utils.qdrant_connection import scroll_qdrant\n",
    "result = scroll_qdrant(\"user_agent_listings\", limit=5)\n",
    "\n",
    "for point in result[0]:\n",
    "    print(\"\\n📌 Point ID:\", point.id)\n",
    "    print(\"Payload:\", point.payload)"
   ]
  },
  {
   "cell_type": "markdown",
   "id": "61745f9d",
   "metadata": {},
   "source": [
    "## Owner Tests"
   ]
  },
  {
   "cell_type": "code",
   "execution_count": 1,
   "id": "e89c6ad2",
   "metadata": {},
   "outputs": [],
   "source": [
    "owner_input= \" Spacious 1.5-bedroom condo in New York, near the subway. Perfect for families, pet-friendly, and close to schools. $2800 per month, available starting September 15th.  Picture: https://example.com/image99.jpg\"\n",
    "\n"
   ]
  },
  {
   "cell_type": "code",
   "execution_count": 2,
   "id": "b59e02fc",
   "metadata": {},
   "outputs": [
    {
     "name": "stdout",
     "output_type": "stream",
     "text": [
      "✅ Upserted 1 points into 'owner_agent_listings' without resetting the collection.\n",
      "Listing uploaded with ID: unknown\n"
     ]
    }
   ],
   "source": [
    "from agents.owner_parser_agent import invoke_owner_parser_agent\n",
    "\n",
    "invoke_owner_parser_agent(owner_input=owner_input)"
   ]
  },
  {
   "cell_type": "code",
   "execution_count": 3,
   "id": "fa570ef7",
   "metadata": {},
   "outputs": [
    {
     "name": "stdout",
     "output_type": "stream",
     "text": [
      "\n",
      "📌 Point ID: 000f06c2-872e-96e6-dd72-c50e8e92923e\n",
      "Payload: {'listing_id': '000f06c2872e96e6dd72c50e8e92923e', 'state': ['Bed-Stuy', 'Brooklyn', 'New York City'], 'picture_url': None, 'price': None, 'bedrooms': 1, 'available_from': None, 'soft_attributes': 'newly renovated, updated appliances, hardwood floors, split-unit air conditioning, close to restaurants and bars, near subway, quick trip to Manhattan'}\n",
      "\n",
      "📌 Point ID: 008c41e9-ce04-57bd-e7df-d85c5844b56c\n",
      "Payload: {'listing_id': '008c41e9ce0457bde7dfd85c5844b56c', 'state': ['San Francisco'], 'picture_url': None, 'price': None, 'bedrooms': 1, 'available_from': None, 'soft_attributes': 'charming, conveniently located near parks and transportation, vibrant Mission district, fully equipped, peaceful living environment, quiet neighbors'}\n",
      "\n",
      "📌 Point ID: 009d35b9-ca73-94e2-0dff-b40bea252941\n",
      "Payload: {'listing_id': '009d35b9ca7394e20dffb40bea252941', 'state': ['New York City'], 'picture_url': None, 'price': 800, 'bedrooms': 1, 'available_from': 'May', 'soft_attributes': \"charming location near major transportation, on the border of Hell's Kitchen and Hudson Yards, ideal for up to 4 guests, 5th-floor walk-up\"}\n",
      "\n",
      "📌 Point ID: 01179705-5b99-02ba-3ef1-fc89b4639185\n",
      "Payload: {'listing_id': '011797055b9902ba3ef1fc89b4639185', 'state': ['New York City'], 'picture_url': None, 'price': None, 'bedrooms': 2, 'available_from': None, 'soft_attributes': 'family-friendly, conveniently located near the Bronx Zoo, Botanical Gardens, and Yankee Stadium, available parking for a fee, free Wi-Fi, continental breakfast, security cameras installed'}\n",
      "\n",
      "📌 Point ID: 01600f2c-b15c-6ce3-8e28-39ffb0e00a36\n",
      "Payload: {'listing_id': '01600f2cb15c6ce38e2839ffb0e00a36', 'state': ['Queens', 'New York City'], 'picture_url': None, 'price': None, 'bedrooms': 2, 'available_from': None, 'soft_attributes': 'spacious, separate entrance, full kitchen, complimentary WiFi and Netflix, ideal for guests aged 25 and older'}\n",
      "\n",
      "📌 Point ID: 01d65b19-37f2-4dbd-5ba8-5a1057e3ef0b\n",
      "Payload: {'listing_id': '01d65b1937f24dbd5ba85a1057e3ef0b', 'state': ['New York City'], 'picture_url': None, 'price': 3000, 'bedrooms': 4, 'available_from': 'February', 'soft_attributes': 'spacious apartment, centrally located, easy access to local attractions, ideal for groups, seeking convenience and comfort'}\n",
      "\n",
      "📌 Point ID: 01d737e9-04da-6b4e-6278-75e3469a56b2\n",
      "Payload: {'listing_id': '01d737e904da6b4e627875e3469a56b2', 'state': ['Brooklyn', 'New York City'], 'picture_url': None, 'price': None, 'bedrooms': 4, 'available_from': None, 'soft_attributes': 'spacious townhouse, desirable neighborhood, family-friendly, gym, media area, private outdoor gardens, independent workspaces, premium memory foam mattresses, housekeeping and babysitting available'}\n",
      "\n",
      "📌 Point ID: 02094f83-523e-3064-9d70-e602aa3cd385\n",
      "Payload: {'listing_id': '02094f83523e30649d70e602aa3cd385', 'state': ['New York City'], 'picture_url': None, 'price': 2500, 'bedrooms': 1, 'available_from': 'October', 'soft_attributes': 'perfect for remote work and city exploration, comfortable double bed, spacious working desk, high-speed Wi-Fi, near top restaurants and bars, easy access to the L train'}\n",
      "\n",
      "📌 Point ID: 0254aff7-280e-028e-ed0e-1799a1c01621\n",
      "Payload: {'listing_id': '0254aff7280e028eed0e1799a1c01621', 'state': ['New York City'], 'picture_url': None, 'price': 1600, 'bedrooms': 1, 'available_from': 'October', 'soft_attributes': 'charming, perfect for families looking to reconnect'}\n",
      "\n",
      "📌 Point ID: 02700142-79e3-081e-9ce3-17ada15934ca\n",
      "Payload: {'listing_id': '0270014279e3081e9ce317ada15934ca', 'state': ['New York City'], 'picture_url': None, 'price': 2400, 'bedrooms': 2, 'available_from': 'September', 'soft_attributes': 'quiet location, close to Gateway Mall, close to Barclays Center, easy access to Manhattan, ground-level unit'}\n",
      "\n",
      "📌 Point ID: 02a670a7-0f3f-7980-6fb7-074b5e7b2965\n",
      "Payload: {'listing_id': '02a670a70f3f79806fb7074b5e7b2965', 'state': ['New York City'], 'picture_url': None, 'price': 1200, 'bedrooms': 1, 'available_from': 'July', 'soft_attributes': 'residential neighborhood, easy access to public transportation, nearby stores, shared access to common areas, limited free street parking'}\n",
      "\n",
      "📌 Point ID: 02b4e766-49ac-9335-d2b9-dae7968f9b90\n",
      "Payload: {'listing_id': '02b4e76649ac9335d2b9dae7968f9b90', 'state': ['San Francisco'], 'picture_url': None, 'price': 3000, 'bedrooms': 1, 'available_from': 'December', 'soft_attributes': 'fully furnished, located near Ferry Plaza Market and the Pier, proximity to excellent restaurants and a farmers market, EV car rentals available at a discount'}\n",
      "\n",
      "📌 Point ID: 030a303c-223a-dae0-fbe0-ab4d42a1ffb2\n",
      "Payload: {'listing_id': '030a303c223adae0fbe0ab4d42a1ffb2', 'state': ['Park Slope', 'New York City'], 'picture_url': None, 'price': None, 'bedrooms': 3, 'available_from': None, 'soft_attributes': 'spacious, bright, private entrance, air-conditioned, near subway, near Prospect Park, near Carroll Gardens, open kitchen, vaulted ceilings, loft space, ideal for families, couples, or groups'}\n",
      "\n",
      "📌 Point ID: 036d69a0-ce51-0154-be7c-bb70695686c5\n",
      "Payload: {'listing_id': '036d69a0ce510154be7cbb70695686c5', 'state': ['New York City'], 'picture_url': None, 'price': 2000, 'bedrooms': 1, 'available_from': 'April', 'soft_attributes': 'charming space, unique interior, disco TV den, wall-to-wall bookcases, large kitchen, great for cooking'}\n",
      "\n",
      "📌 Point ID: 03804b8c-392e-7edc-0088-699158afc658\n",
      "Payload: {'listing_id': '03804b8c392e7edc0088699158afc658', 'state': ['Bedford-Stuyvesant', 'New York City'], 'picture_url': None, 'price': 2000, 'bedrooms': 1, 'available_from': None, 'soft_attributes': 'cozy, perfect for two guests, serene garden, near the subway, includes internet, AC/heat, cable TV'}\n",
      "\n",
      "📌 Point ID: 03dd3b70-eec8-0544-d8ea-13ec62bfbf5d\n",
      "Payload: {'listing_id': '03dd3b70eec80544d8ea13ec62bfbf5d', 'state': ['Bushwick', 'Brooklyn', 'New York City'], 'picture_url': None, 'price': None, 'bedrooms': 1, 'available_from': None, 'soft_attributes': 'private room in shared apartment, easy access to Manhattan, excellent dining and entertainment options, 420 friendly, drafting desk for work'}\n",
      "\n",
      "📌 Point ID: 0430dad0-7461-accf-da99-3f420545da9b\n",
      "Payload: {'listing_id': '0430dad07461accfda993f420545da9b', 'state': ['New York City'], 'picture_url': None, 'price': None, 'bedrooms': 2, 'available_from': None, 'soft_attributes': 'highly convenient neighborhood, close to parks and attractions, suitable for guests aged 16 and older, no shoes allowed inside, owner has allergies to scented products'}\n",
      "\n",
      "📌 Point ID: 0441c7e3-1b0d-8c58-4ac4-9a26ac0fdb8f\n",
      "Payload: {'listing_id': '0441c7e31b0d8c584ac49a26ac0fdb8f', 'state': ['New York'], 'picture_url': None, 'price': None, 'bedrooms': 1, 'available_from': None, 'soft_attributes': 'residential area, easy access to public transportation, private bathroom, ample closet space, free street parking nearby, no pets, no smoking, no alcohol, no drugs'}\n",
      "\n",
      "📌 Point ID: 044e9ae9-c6a7-c53d-a570-2a26b4e455ed\n",
      "Payload: {'listing_id': '044e9ae9c6a7c53da5702a26b4e455ed', 'state': ['New York City'], 'picture_url': None, 'price': 1600, 'bedrooms': 1, 'available_from': 'March', 'soft_attributes': 'two blocks from Central Park, convenient subway access, near Chelsea and West Village, close to Columbia University, nearby CitiBike station, local amenities'}\n",
      "\n",
      "📌 Point ID: 04722e21-4ea5-cc79-f7c8-3e7d198c64d2\n",
      "Payload: {'listing_id': '04722e214ea5cc79f7c83e7d198c64d2', 'state': ['San Francisco'], 'picture_url': None, 'price': None, 'bedrooms': 4, 'available_from': None, 'soft_attributes': 'spacious Edwardian home, newly renovated, quiet cul-de-sac location, two private parking spots, high-speed internet, great city views, convenient access to public transportation'}\n",
      "\n",
      "📌 Point ID: 04cc4a5f-1b97-b3e0-be73-94dc559d189b\n",
      "Payload: {'listing_id': '04cc4a5f1b97b3e0be7394dc559d189b', 'state': ['Brooklyn', 'New York City'], 'picture_url': None, 'price': 3000, 'bedrooms': 1, 'available_from': 'January', 'soft_attributes': 'cozy, peaceful neighborhood, easy access to city attractions, great location near Prospect Park'}\n",
      "\n",
      "📌 Point ID: 051c3528-833b-5485-21bf-d53d9b8fc161\n",
      "Payload: {'listing_id': '051c3528833b548521bfd53d9b8fc161', 'state': ['Queens', 'New York City'], 'picture_url': None, 'price': None, 'bedrooms': 1, 'available_from': None, 'soft_attributes': 'perfect for travelers and remote workers, minutes from JFK Airport, adjacent to Springfield Gardens Park, sun-drenched space, shared bathroom, ideal for short and long stays'}\n",
      "\n",
      "📌 Point ID: 05502e41-34a0-4d38-1381-7fb8cb597f53\n",
      "Payload: {'listing_id': '05502e4134a04d3813817fb8cb597f53', 'state': ['San Francisco'], 'picture_url': None, 'price': None, 'bedrooms': 3, 'available_from': None, 'soft_attributes': 'classic residence from 1913, short walk from Golden Gate Park, conveniently located near public transportation, ideal for families and groups, warm and inviting atmosphere'}\n",
      "\n",
      "📌 Point ID: 055c3ba2-1d7a-2b7f-ab54-39f76070b854\n",
      "Payload: {'listing_id': '055c3ba21d7a2b7fab5439f76070b854', 'state': ['New York City'], 'picture_url': None, 'price': 1600, 'bedrooms': 2, 'available_from': 'December', 'soft_attributes': 'spacious unit, large balcony for relaxation and BBQs, luxurious bathroom with jacuzzi and marble tiles, quiet kitchen'}\n",
      "\n",
      "📌 Point ID: 05921158-f57e-0749-532e-977b94a143d7\n",
      "Payload: {'listing_id': '05921158f57e0749532e977b94a143d7', 'state': ['New York City'], 'picture_url': None, 'price': None, 'bedrooms': 1, 'available_from': None, 'soft_attributes': 'renovated, serene high-floor space, private furnished bedroom and bathroom, shared living and dining areas, ideal for runners and nature lovers, sunny views of landmark architecture'}\n",
      "\n",
      "📌 Point ID: 05b25bf3-a610-d48e-6db4-743c3d59fa67\n",
      "Payload: {'listing_id': '05b25bf3a610d48e6db4743c3d59fa67', 'state': ['Morris Park', 'Bronx', 'New York City'], 'picture_url': None, 'price': 800, 'bedrooms': 1, 'available_from': 'August', 'soft_attributes': 'conveniently located near The Bronx Zoo and The Botanical Gardens, short train ride to Manhattan, close to 2 and 5 train lines, bus service to major hospitals and attractions'}\n",
      "\n",
      "📌 Point ID: 05bbb6a0-e695-98bb-2c09-16691ee5303c\n",
      "Payload: {'listing_id': '05bbb6a0e69598bb2c0916691ee5303c', 'state': ['San Francisco'], 'picture_url': None, 'price': 2500, 'bedrooms': 1, 'available_from': None, 'soft_attributes': 'Charming, located in Outer Richmond district, blocks from Golden Gate Park and Ocean Beach, private entrance, ideal for couples or small families'}\n",
      "\n",
      "📌 Point ID: 0645cefc-439f-c0eb-a9fc-fd912fb6704d\n",
      "Payload: {'listing_id': '0645cefc439fc0eba9fcfd912fb6704d', 'state': ['Yorkville', 'New York City'], 'picture_url': None, 'price': 800, 'bedrooms': 1, 'available_from': 'October', 'soft_attributes': 'spacious, large rooms over 150 sq ft, equipped with king-size beds and desks, ideal for those seeking comfort and space'}\n",
      "\n",
      "📌 Point ID: 06e4884b-aa37-22a6-e9bd-1fd6a76c3f8a\n",
      "Payload: {'listing_id': '06e4884baa3722a6e9bd1fd6a76c3f8a', 'state': ['New York City'], 'picture_url': None, 'price': None, 'bedrooms': 1, 'available_from': None, 'soft_attributes': 'bright, located across from a beautiful park with a track and soccer field, queen-sized bed, flat-screen TV with cable, shared living room and kitchen, ideal for couples or pairs, includes Wi-Fi, includes rooftop area'}\n",
      "\n",
      "📌 Point ID: 077f0f8c-4634-877f-c2a6-79c3d1114859\n",
      "Payload: {'listing_id': '077f0f8c4634877fc2a679c3d1114859', 'state': ['New York City'], 'picture_url': None, 'price': None, 'bedrooms': 1, 'available_from': None, 'soft_attributes': 'private bedroom, queen bed with closet, shared spacious living room, shared kitchen and bathroom, high-speed WiFi, close to shops and restaurants, near Sea View Park, accessible public transportation'}\n",
      "\n",
      "📌 Point ID: 07d1250b-9691-22f5-0bda-1f69a8ea755a\n",
      "Payload: {'listing_id': '07d1250b969122f50bda1f69a8ea755a', 'state': ['Bed-Stuy', 'New York City'], 'picture_url': None, 'price': 2000, 'bedrooms': 1, 'available_from': 'June', 'soft_attributes': 'spacious, ideal for artists and musicians, features a dishwasher, laundry, Wi-Fi, bike storage, access to a rooftop deck'}\n",
      "\n",
      "📌 Point ID: 08c1f1fd-b79d-0198-09b6-fcfefed6f71c\n",
      "Payload: {'listing_id': '08c1f1fdb79d019809b6fcfefed6f71c', 'state': ['Fort Greene', 'Brooklyn', 'New York City'], 'picture_url': None, 'price': 800, 'bedrooms': 1, 'available_from': 'December', 'soft_attributes': 'cozy and comfortable, excellent condition, conveniently located near public transport, vibrant neighborhood with parks and cultural institutions, some noise due to bar below'}\n",
      "\n",
      "📌 Point ID: 08e4238b-7eb7-a02d-4635-06c3385cd62d\n",
      "Payload: {'listing_id': '08e4238b7eb7a02d463506c3385cd62d', 'state': ['San Francisco'], 'picture_url': None, 'price': 2500, 'bedrooms': 2, 'available_from': None, 'soft_attributes': 'Inner Sunset neighborhood, one block from public transportation, private patio, fully furnished, separate guest entrance, ideal for long stays, free street parking'}\n",
      "\n",
      "📌 Point ID: 08f44c3c-106a-7dc0-7c6d-75ee961e08e5\n",
      "Payload: {'listing_id': '08f44c3c106a7dc07c6d75ee961e08e5', 'state': ['Woodside', 'Queens', 'New York City'], 'picture_url': None, 'price': None, 'bedrooms': 2, 'available_from': None, 'soft_attributes': 'residential neighborhood, safe and comfortable area, easy access to supermarkets, restaurants, and bars, close to Manhattan, ideal for first-time visitors'}\n",
      "\n",
      "📌 Point ID: 090e8291-d466-291f-c4d0-9dd275ecaef1\n",
      "Payload: {'listing_id': '090e8291d466291fc4d09dd275ecaef1', 'state': ['San Francisco'], 'picture_url': None, 'price': 2000, 'bedrooms': 1, 'available_from': None, 'soft_attributes': 'safe Inner Richmond neighborhood, queen-size bed, desk, closet, access to shared kitchen and sitting area, fast internet, nearby cafes and markets, suitable for long-term stays'}\n",
      "\n",
      "📌 Point ID: 09533d7f-92d4-a0aa-bad7-7fe7171e9849\n",
      "Payload: {'listing_id': '09533d7f92d4a0aabad77fe7171e9849', 'state': ['Bushwick', 'New York City'], 'picture_url': None, 'price': 3000, 'bedrooms': 2, 'available_from': 'May', 'soft_attributes': 'conveniently located near subway lines, surrounded by vibrant cafes and restaurants, pet-friendly, perfect for friends and couples, enjoy local culture'}\n",
      "\n",
      "📌 Point ID: 09543add-250a-c68c-7984-42ffbafad7b8\n",
      "Payload: {'listing_id': '09543add250ac68c798442ffbafad7b8', 'state': ['San Francisco'], 'picture_url': None, 'price': 800, 'bedrooms': 2, 'available_from': 'January', 'soft_attributes': 'spacious, fully furnished, pull-out couch, fully equipped kitchen, WiFi, on-site laundry, ideal for business and leisure stays'}\n",
      "\n",
      "📌 Point ID: 095798d2-df28-4312-442f-c5eb7985da30\n",
      "Payload: {'listing_id': '095798d2df284312442fc5eb7985da30', 'state': ['San Francisco'], 'picture_url': None, 'price': 2500, 'bedrooms': 1, 'available_from': None, 'soft_attributes': 'local experience, private lower-level suite, access to backyard with deck and fire pit, BBQ, cozy living room, ideal for up to 4 guests'}\n",
      "\n",
      "📌 Point ID: 09794eea-2491-6f42-889f-427e18a7f12a\n",
      "Payload: {'listing_id': '09794eea24916f42889f427e18a7f12a', 'state': ['Fort Greene', 'Brooklyn', 'New York City'], 'picture_url': None, 'price': None, 'bedrooms': 3, 'available_from': None, 'soft_attributes': 'beautifully renovated, spacious three-story residence, den, two bathrooms, backyard, balcony, ideal for families of 4 to 5, conveniently located near major subway lines'}\n",
      "\n",
      "📌 Point ID: 099901dd-41fc-750e-d336-99fdcc8e6bfc\n",
      "Payload: {'listing_id': '099901dd41fc750ed33699fdcc8e6bfc', 'state': ['New York'], 'picture_url': None, 'price': 2500, 'bedrooms': 1, 'available_from': None, 'soft_attributes': 'quiet space, close to subway and attractions, access to kitchen, pet-friendly, cat on premises'}\n",
      "\n",
      "📌 Point ID: 099d52c9-5d66-732a-4667-8241ca420a6b\n",
      "Payload: {'listing_id': '099d52c95d66732a46678241ca420a6b', 'state': ['Midtown Manhattan', 'New York City'], 'picture_url': None, 'price': None, 'bedrooms': 1, 'available_from': None, 'soft_attributes': 'steps away from iconic attractions, historic boutique property, gym, on-site restaurant, business center, ideal for leisure and business travelers'}\n",
      "\n",
      "📌 Point ID: 09f4618b-3551-07ad-f568-f34dd07be5ae\n",
      "Payload: {'listing_id': '09f4618b355107adf568f34dd07be5ae', 'state': ['New York City'], 'picture_url': None, 'price': 2500, 'bedrooms': 1, 'available_from': None, 'soft_attributes': 'charming apartment in historic Sugar Hill, overlooks iconic Morris-Jumel Mansion, private townhouse, spacious living room, garden access, romantic setting, modern amenities'}\n",
      "\n",
      "📌 Point ID: 0a62cbca-1f75-edb8-a2f1-f2ae8b3eb460\n",
      "Payload: {'listing_id': '0a62cbca1f75edb8a2f1f2ae8b3eb460', 'state': ['New York'], 'picture_url': None, 'price': None, 'bedrooms': 1, 'available_from': None, 'soft_attributes': 'charming location, close to Central Park and Lincoln Center, peaceful retreat, convenient subway access, near Carnegie Hall and Broadway'}\n",
      "\n",
      "📌 Point ID: 0a6a4384-88ee-d1a6-1b61-bdf0ffd61bab\n",
      "Payload: {'listing_id': '0a6a438488eed1a61b61bdf0ffd61bab', 'state': ['San Francisco'], 'picture_url': None, 'price': None, 'bedrooms': 1, 'available_from': None, 'soft_attributes': 'bright and spacious, stunning views, close to Glen Park BART and Muni bus lines, fully furnished, includes cable and Wi-Fi, ideal for a comfortable home away from home'}\n",
      "\n",
      "📌 Point ID: 0a864098-f610-5e72-a152-bea6df1f0f5f\n",
      "Payload: {'listing_id': '0a864098f6105e72a152bea6df1f0f5f', 'state': ['Brooklyn', 'New York City'], 'picture_url': None, 'price': None, 'bedrooms': 1, 'available_from': None, 'soft_attributes': 'ideal for professionals and students, vibrant community atmosphere, modern amenities, spacious living room, gym, game room, cozy backyard'}\n"
     ]
    }
   ],
   "source": [
    "from utils.qdrant_connection import scroll_qdrant\n",
    "result = scroll_qdrant(\"owner_agent_listings\", limit=45)\n",
    "\n",
    "for point in result[0]:\n",
    "    print(\"\\n📌 Point ID:\", point.id)\n",
    "    print(\"Payload:\", point.payload)\n"
   ]
  },
  {
   "cell_type": "markdown",
   "id": "b0769399",
   "metadata": {},
   "source": [
    "## SYNTHIETIC DATA\n"
   ]
  },
  {
   "cell_type": "code",
   "execution_count": 25,
   "id": "7f07cf83",
   "metadata": {},
   "outputs": [],
   "source": [
    "\n",
    "# -------- prompts --------\n",
    "OWNER_NORMALIZE_PROMPT = \"\"\"You will receive a short listing description pulled from Airbnb data (may be informal).\n",
    "Rewrite it as a concise, normal real-estate OWNER listing (2–4 sentences).\n",
    "Include: location, bedrooms, notable perks/constraints, monthly price (if present), and availability timing (if present).\n",
    "Output plain text only.\"\"\"\n",
    "\n",
    "CUSTOMER_SYNTH_PROMPT = \"\"\"You will receive a normal real-estate OWNER listing.\n",
    "Rewrite it as a RENTER request that naturally matches it (1–3 sentences).\n",
    "Mention location, min bedrooms, lifestyle hints, max monthly budget (same number), and move-in time if present.\n",
    "Output plain text only.\"\"\""
   ]
  },
  {
   "cell_type": "code",
   "execution_count": 26,
   "id": "56157c80",
   "metadata": {},
   "outputs": [],
   "source": [
    "# -------- helpers --------\n",
    "def _chat(messages: List[dict]) -> str:\n",
    "    r = client.chat.completions.create(\n",
    "        model=MODEL_ID,\n",
    "        messages=messages,\n",
    "        temperature=TEMP\n",
    "    )\n",
    "    return r.choices[0].message.content.strip()\n",
    "\n",
    "def select_seed_listings(csv_path: str, n: int) -> pd.DataFrame:\n",
    "    df = pd.read_csv(csv_path)\n",
    "    df[\"state\"] = df[\"state\"].astype(str).str.upper().str.strip()\n",
    "    df = df[df[\"state\"].isin(CITY_FILTER)]\n",
    "    if len(df) > n:\n",
    "        df = df.sample(n=n, random_state=42)\n",
    "    return df.reset_index(drop=True)\n",
    "\n",
    "def build_airbnb_source_text(row: pd.Series) -> str:\n",
    "    \"\"\"Compose a compact source text from structured fields (since Airbnb text may be odd).\"\"\"\n",
    "    parts = []\n",
    "    b = row.get(\"bedrooms\")\n",
    "    if pd.notna(b):\n",
    "        parts.append(f\"{int(b)}-bedroom\")\n",
    "    city = str(row.get(\"state\") or \"\").title()\n",
    "    if city:\n",
    "        parts.append(f\"in {city}\")\n",
    "    soft = (row.get(\"soft_attributes\") or \"\").strip()\n",
    "    price = row.get(\"price\")\n",
    "    avail = (row.get(\"available_from\") or \"\")\n",
    "    s = f\"{' '.join(parts)}. {soft}\".strip()\n",
    "    if pd.notna(price):\n",
    "        s += f\" Price: ${int(float(price))}/month.\"\n",
    "    if isinstance(avail, str) and avail:\n",
    "        s += f\" Available from {avail.title()}.\"\n",
    "    return s[:800]\n",
    "\n",
    "def owner_normalize(text: str) -> str:\n",
    "    return _chat([\n",
    "        {\"role\": \"system\", \"content\": OWNER_NORMALIZE_PROMPT},\n",
    "        {\"role\": \"user\", \"content\": text}\n",
    "    ])\n",
    "\n",
    "def customer_from_owner(owner_text: str) -> str:\n",
    "    return _chat([\n",
    "        {\"role\": \"system\", \"content\": CUSTOMER_SYNTH_PROMPT},\n",
    "        {\"role\": \"user\", \"content\": owner_text}\n",
    "    ])\n",
    "\n",
    "def save_jsonl(path: str, rows: List[dict]):\n",
    "    os.makedirs(os.path.dirname(path), exist_ok=True)\n",
    "    with open(path, \"w\", encoding=\"utf-8\") as f:\n",
    "        for r in rows:\n",
    "            json.dump(r, f, ensure_ascii=False)\n",
    "            f.write(\"\\n\")"
   ]
  },
  {
   "cell_type": "code",
   "execution_count": 27,
   "id": "ef59328d",
   "metadata": {},
   "outputs": [
    {
     "name": "stdout",
     "output_type": "stream",
     "text": [
      "Selected 1000 rows from ['NEW YORK', 'NEW YORK CITY', 'NYC', 'SAN FRANCISCO']\n"
     ]
    }
   ],
   "source": [
    "df = select_seed_listings(CSV_PATH, N_SAMPLES)\n",
    "if df.empty:\n",
    "    print(\"No rows after filtering.\")\n",
    "print(f\"Selected {len(df)} rows from {sorted(CITY_FILTER)}\")\n",
    "df.to_csv(SELCTED_PATH, index=False)\n"
   ]
  },
  {
   "cell_type": "code",
   "execution_count": null,
   "id": "363d07c9",
   "metadata": {},
   "outputs": [],
   "source": [
    "# Step 1: build source (Airbnb-ish) text → normalize to owner style\n",
    "owner_inputs: List[str] = []\n",
    "for _, row in tqdm(df.iterrows(), total=len(df), desc=\"Normalize owner texts\"):\n",
    "    src = build_airbnb_source_text(row)\n",
    "    owner_inputs.append(owner_normalize(src))\n",
    "    time.sleep(0.02)  # gentle pacing"
   ]
  },
  {
   "cell_type": "markdown",
   "id": "9493583e",
   "metadata": {},
   "source": [
    "# OLD"
   ]
  },
  {
   "cell_type": "code",
   "execution_count": 1,
   "id": "47cc2e33",
   "metadata": {},
   "outputs": [],
   "source": [
    "# from config.llm_config import llm\n",
    "# from agents.leave_me_agent import run_leave_me_agent\n",
    "\n",
    "# def main():\n",
    "#     print(\"Running REMAS: Leave Me Agent Example\")\n",
    "#     user_input = input(\"Type your message: \")\n",
    "\n",
    "#     response = run_leave_me_agent(user_input=user_input, llm=llm)\n",
    "#     print(\"Agent Response:\", response)\n",
    "\n",
    "# if __name__ == \"__main__\":\n",
    "#     main()\n"
   ]
  },
  {
   "cell_type": "code",
   "execution_count": null,
   "id": "2d795777",
   "metadata": {},
   "outputs": [],
   "source": [
    "# from remas_llm import run_llm_agent\n",
    "\n",
    "# response = run_llm_agent(\n",
    "#     user_input=\"Hello there!\",\n",
    "#     system_prompt=\"You must always respond with: Leave me alone!\"\n",
    "# )\n",
    "# print(\"Agent:\", response)\n"
   ]
  },
  {
   "cell_type": "code",
   "execution_count": null,
   "id": "546ee27f",
   "metadata": {},
   "outputs": [],
   "source": [
    "# # Load environment variables\n",
    "# load_dotenv()\n",
    "# AZURE_OPENAI_API_KEY = os.getenv(\"AZURE_OPENAI_API_KEY\")\n",
    "# DEPLOYMENT_NAME = \"team8-gpt4o\"  \n",
    "# AZURE_OPENAI_ENDPOINT = \"https://096290-oai.openai.azure.com\"\n",
    "# API_VERSION = \"2023-05-15\"\n",
    "\n",
    "# # Initialize model\n",
    "# llm = AzureChatOpenAI(\n",
    "#     api_key=AZURE_OPENAI_API_KEY,\n",
    "#     api_version=API_VERSION,\n",
    "#     azure_endpoint=AZURE_OPENAI_ENDPOINT,\n",
    "#     deployment_name=DEPLOYMENT_NAME,\n",
    "# )"
   ]
  },
  {
   "cell_type": "code",
   "execution_count": null,
   "id": "e45dde39",
   "metadata": {},
   "outputs": [],
   "source": [
    "# # Token usage log file\n",
    "# LOG_FILE = \"token_usage.csv\"\n",
    "\n",
    "# # Ensure CSV file has headers\n",
    "# if not os.path.exists(LOG_FILE):\n",
    "#     with open(LOG_FILE, mode='w', newline='') as f:\n",
    "#         writer = csv.writer(f)\n",
    "#         writer.writerow([\"timestamp\", \"input_tokens\", \"output_tokens\", \"total_tokens\", \"user_input\"])\n"
   ]
  },
  {
   "cell_type": "code",
   "execution_count": null,
   "id": "718e14d4",
   "metadata": {},
   "outputs": [],
   "source": [
    "# def run_llm_agent(user_input):\n",
    "#     messages = [\n",
    "#         SystemMessage(content=\"You must always respond with: Leave me alone!\"),\n",
    "#         HumanMessage(content=user_input)\n",
    "#     ]\n",
    "\n",
    "#     # Token usage tracking\n",
    "#     with get_openai_callback() as cb:\n",
    "#         response = llm.invoke(messages)\n",
    "\n",
    "#         # Log to CSV\n",
    "#         with open(LOG_FILE, mode='a', newline='') as f:\n",
    "#             writer = csv.writer(f)\n",
    "#             writer.writerow([\n",
    "#                 datetime.now().isoformat(),\n",
    "#                 cb.prompt_tokens,\n",
    "#                 cb.completion_tokens,\n",
    "#                 cb.total_tokens,\n",
    "#                 user_input\n",
    "#             ])\n",
    "\n",
    "#     return response.content"
   ]
  },
  {
   "cell_type": "code",
   "execution_count": null,
   "id": "f732ad0f",
   "metadata": {},
   "outputs": [
    {
     "name": "stdout",
     "output_type": "stream",
     "text": [
      "Agent: Leave me alone!\n",
      "Agent: Leave me alone!\n"
     ]
    }
   ],
   "source": [
    "# while True:\n",
    "#     user_input = input(\"User: \")\n",
    "#     if user_input.lower() in {\"exit\", \"quit\"}:\n",
    "#         break\n",
    "#     response = run_llm_agent(user_input)\n",
    "#     print(\"Agent:\", response)"
   ]
  },
  {
   "cell_type": "code",
   "execution_count": null,
   "id": "7a933903",
   "metadata": {},
   "outputs": [],
   "source": [
    "# import re\n",
    "\n",
    "# def extract_outputs(results):\n",
    "#     outputs = []\n",
    "#     for r in results:\n",
    "#         match = re.search(r\"<output>\\s*(\\d)\\s*</output>\", r)\n",
    "#         if match and match.group(1) in [\"0\", \"1\"]:\n",
    "#             outputs.append(int(match.group(1)))\n",
    "#         else:\n",
    "#             outputs.append(-1)\n",
    "#     return outputs\n",
    "\n",
    "# def extract_explanations(results):\n",
    "#     explanations = []\n",
    "#     for r in results:\n",
    "#         match = re.search(r\"<explanation>\\s*(.*?)\\s*</explanation>\", r, re.DOTALL)\n",
    "#         if match:\n",
    "#             explanations.append(match.group(1).strip())\n",
    "#         else:\n",
    "#             explanations.append(\"\")\n",
    "#     return explanations"
   ]
  },
  {
   "cell_type": "code",
   "execution_count": null,
   "id": "e946edbb",
   "metadata": {},
   "outputs": [],
   "source": [
    "# # -------------------- \n",
    "# # a function for inserting a system and user messages into a conversation\n",
    "# # -------------------- \n",
    "# def format_prompt(system_msg: str, user_msg: str):\n",
    "#     return [\n",
    "#         SystemMessage(content=system_msg), \n",
    "#         HumanMessage(content=user_msg)\n",
    "#     ]"
   ]
  },
  {
   "cell_type": "code",
   "execution_count": 7,
   "id": "b526f11e",
   "metadata": {},
   "outputs": [],
   "source": [
    "# # -------------------- \n",
    "# # invoking a single call\n",
    "# # -------------------- \n",
    "\n",
    "# system_msg = \"Answer 'Leave me alone' no matter what you're asked.\"\n",
    "# user_msg = \"What is the capital of France?\"\n",
    "# prompt = format_prompt(system_msg, user_msg)\n",
    "# result = gpt_4o.invoke(prompt).content   # output: \"Leave me alone.\""
   ]
  },
  {
   "cell_type": "code",
   "execution_count": null,
   "id": "6822c215",
   "metadata": {},
   "outputs": [],
   "source": [
    "# # -------------------- \n",
    "# # a function for running multiple calls in parallel\n",
    "# # -------------------- \n",
    "# def invoke_llm(model: AzureChatOpenAI, prompts: list[str] | list[list[SystemMessage | HumanMessage]], with_tqdm=True) -> \\\n",
    "#         list[str]:\n",
    "#     def single_invoke(prompt: str) -> str:\n",
    "#         try:\n",
    "#             result = model.invoke(prompt)\n",
    "#             return result.content\n",
    "#         except Exception as e:\n",
    "#             print(f\"LLM error: {e}\")\n",
    "#             return \"N/A\"\n",
    "\n",
    "#     with ThreadPoolExecutor() as executor:\n",
    "#         if with_tqdm:\n",
    "#             results = list(tqdm(\n",
    "#                 executor.map(single_invoke, prompts),\n",
    "#                 total=len(prompts),\n",
    "#                 desc=\"Processing prompts\"\n",
    "#             ))\n",
    "#         else:\n",
    "#             results = list(executor.map(single_invoke, prompts))\n",
    "\n",
    "#     return results"
   ]
  },
  {
   "cell_type": "code",
   "execution_count": null,
   "id": "d4552caa",
   "metadata": {},
   "outputs": [],
   "source": []
  }
 ],
 "metadata": {
  "kernelspec": {
   "display_name": "Python 3",
   "language": "python",
   "name": "python3"
  },
  "language_info": {
   "codemirror_mode": {
    "name": "ipython",
    "version": 3
   },
   "file_extension": ".py",
   "mimetype": "text/x-python",
   "name": "python",
   "nbconvert_exporter": "python",
   "pygments_lexer": "ipython3",
   "version": "3.11.9"
  }
 },
 "nbformat": 4,
 "nbformat_minor": 5
}
