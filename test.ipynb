{
 "cells": [
  {
   "cell_type": "markdown",
   "id": "1a6233dc",
   "metadata": {},
   "source": [
    "## User parser agent Tests"
   ]
  },
  {
   "cell_type": "code",
   "execution_count": null,
   "id": "1cba8fde",
   "metadata": {},
   "outputs": [
    {
     "name": "stdout",
     "output_type": "stream",
     "text": [
      "Running REMAS: run_user_parser_agent\n",
      "✅ Upserted 1 points into 'user_agent_listings' without resetting the collection.\n",
      "✅ Uploaded user query with ID: 6e9fd5b8e158c408a80980e25e049dac to 'user_agent_listings'\n"
     ]
    },
    {
     "data": {
      "text/plain": [
       "'6e9fd5b8e158c408a80980e25e049dac'"
      ]
     },
     "execution_count": 1,
     "metadata": {},
     "output_type": "execute_result"
    }
   ],
   "source": [
    "from agents.user_parser_agent import invoke_user_parser_agent\n",
    "\n",
    "print(\"Running REMAS: user_parser_agent\")\n",
    "user_input = input(\"Type your message: \")\n",
    "\n",
    "invoke_user_parser_agent(user_input=user_input)"
   ]
  },
  {
   "cell_type": "code",
   "execution_count": 3,
   "id": "6e64c3db",
   "metadata": {},
   "outputs": [
    {
     "name": "stdout",
     "output_type": "stream",
     "text": [
      "user Qdrant count: 1001\n"
     ]
    }
   ],
   "source": [
    "from utils.qdrant_connection import count_qdrant\n",
    "print(\"user Qdrant count:\", count_qdrant(\"user_agent_listings\"))"
   ]
  },
  {
   "cell_type": "code",
   "execution_count": 1,
   "id": "b0f76e17",
   "metadata": {},
   "outputs": [
    {
     "name": "stdout",
     "output_type": "stream",
     "text": [
      "\n",
      "📌 Point ID: 6e9fd5b8-e158-c408-a809-80e25e049dac\n",
      "Payload: {'listing_id': '6e9fd5b8e158c408a80980e25e049dac', 'state': ['Brooklyn', 'Queens'], 'picture_url': None, 'price': 2200, 'bedrooms': 2, 'available_from': 'October', 'soft_attributes': 'pet-friendly, close to public transportation, quiet neighborhood', 'source': 'user_query'}\n"
     ]
    }
   ],
   "source": [
    "from utils.qdrant_connection import get_point_by_id\n",
    "point_id = input(\"Enter the point ID to retrieve: \")\n",
    "point = get_point_by_id(\"user_agent_listings\", point_id)\n",
    "if point:\n",
    "    print(f\"\\n📌 Point ID: {point.id}\")\n",
    "    print(\"Payload:\", point.payload)\n",
    "else:\n",
    "    print(f\"No point found with ID: {point_id}\")    \n",
    "    "
   ]
  },
  {
   "cell_type": "markdown",
   "id": "61745f9d",
   "metadata": {},
   "source": [
    "## Owner parser agent Tests"
   ]
  },
  {
   "cell_type": "code",
   "execution_count": 1,
   "id": "fa570ef7",
   "metadata": {},
   "outputs": [
    {
     "name": "stdout",
     "output_type": "stream",
     "text": [
      "Running REMAS: owner_parser_agent\n",
      "✅ Upserted 1 points into 'owner_agent_listings' without resetting the collection.\n",
      "✅ Uploaded owner listing with ID: 140d392e74131263a9ca770865306117 to 'owner_agent_listings'\n"
     ]
    },
    {
     "data": {
      "text/plain": [
       "'140d392e74131263a9ca770865306117'"
      ]
     },
     "execution_count": 1,
     "metadata": {},
     "output_type": "execute_result"
    }
   ],
   "source": [
    "from agents.owner_parser_agent import invoke_owner_parser_agent\n",
    "\n",
    "print(\"Running REMAS: owner_parser_agent\")\n",
    "owner_input = input(\"Type your message: \")\n",
    "\n",
    "invoke_owner_parser_agent(owner_input=owner_input)\n"
   ]
  },
  {
   "cell_type": "code",
   "execution_count": 2,
   "id": "ee4f5715",
   "metadata": {},
   "outputs": [
    {
     "name": "stdout",
     "output_type": "stream",
     "text": [
      "owner Qdrant count: 1008\n"
     ]
    }
   ],
   "source": [
    "from utils.qdrant_connection import count_qdrant\n",
    "print(\"owner Qdrant count:\", count_qdrant(\"owner_agent_listings\"))"
   ]
  },
  {
   "cell_type": "code",
   "execution_count": 4,
   "id": "fa95cb75",
   "metadata": {},
   "outputs": [
    {
     "name": "stdout",
     "output_type": "stream",
     "text": [
      "\n",
      "📌 Point ID: 140d392e-7413-1263-a9ca-770865306117\n",
      "Payload: {'listing_id': '140d392e74131263a9ca770865306117', 'state': ['Astoria', 'Queens'], 'picture_url': 'https://example.com/apt-photos/astoria2.jpg', 'price': 2400, 'bedrooms': 2, 'available_from': 'October', 'soft_attributes': 'spacious, 5 minutes from the subway, balcony with city views, newly renovated kitchen, in-unit washer/dryer'}\n"
     ]
    }
   ],
   "source": [
    "from utils.qdrant_connection import get_point_by_id\n",
    "point_id = input(\"Enter the point ID to retrieve: \")\n",
    "point = get_point_by_id(\"owner_agent_listings\", point_id)\n",
    "if point:\n",
    "    print(f\"\\n📌 Point ID: {point.id}\")\n",
    "    print(\"Payload:\", point.payload)\n",
    "else:\n",
    "    print(f\"No point found with ID: {point_id}\")    "
   ]
  },
  {
   "cell_type": "code",
   "execution_count": 10,
   "id": "8275d4b7",
   "metadata": {},
   "outputs": [
    {
     "name": "stdout",
     "output_type": "stream",
     "text": [
      "similarity_collection Qdrant count: 30064\n"
     ]
    }
   ],
   "source": [
    "# pront count similatity \n",
    "from utils.qdrant_connection import count_qdrant\n",
    "print(\"similarity_collection Qdrant count:\", count_qdrant(\"similarity_collection\"))     "
   ]
  },
  {
   "cell_type": "code",
   "execution_count": 11,
   "id": "d356f89d",
   "metadata": {},
   "outputs": [
    {
     "name": "stdout",
     "output_type": "stream",
     "text": [
      "Scrolling through similarity_collection:\n",
      "\n",
      "📌 Point : id='00002dfd-2619-8928-90fc-a885f9bf7e7c' payload={'user_id': 'b4c4af9a-95cf-3b26-d0d3-6cb6285752e8', 'owner_id': 'd9e08424-bc77-656e-72f3-44c488406268', 'score': 0.55240315, 'filter_used': {'collection': 'user_agent_listings', 'state': ['New York City'], 'price_owner': None, 'bedrooms_owner': 5, 'available_from': None}, 'timestamp': 1754906840.3216486} vector=None shard_key=None order_value=None\n",
      "\n",
      "📌 Point : id='00018f3a-6b1b-7701-9322-70b25d96fae7' payload={'user_id': '3e91e308-97c8-5c72-b42a-b61498983051', 'owner_id': '5fe3c73d-69fa-29d4-8b1b-34f6fab0f107', 'score': 0.6045309, 'filter_used': {'collection': 'user_agent_listings', 'state': ['Crown Heights', 'Brooklyn', 'New York City'], 'price_owner': 2000, 'bedrooms_owner': 1, 'available_from': None}, 'timestamp': 1754906437.3464315} vector=None shard_key=None order_value=None\n",
      "\n",
      "📌 Point : id='00034545-0053-1cfc-2e2e-670af297d33d' payload={'user_id': '07a040bc-f51e-501d-6d89-9ed5dbf4d754', 'owner_id': 'bd42af27-5701-689a-13a5-2396972aa20c', 'score': 0.5314168, 'filter_used': {'collection': 'user_agent_listings', 'state': ['Financial District', 'Seaport', 'New York City'], 'price_owner': None, 'bedrooms_owner': 1, 'available_from': None}, 'timestamp': 1754906752.0427778} vector=None shard_key=None order_value=None\n",
      "\n",
      "📌 Point : id='0009f908-0364-e598-b459-1a22840b4acf' payload={'user_id': '3443c56c-4b82-996b-7ae9-1529e441a150', 'owner_id': 'f033d459-6a83-934b-a34a-c5a7c873d2fe', 'score': 0.5395528, 'filter_used': {'collection': 'user_agent_listings', 'state': ['San Francisco'], 'price_owner': None, 'bedrooms_owner': 1, 'available_from': None}, 'timestamp': 1754906904.720005} vector=None shard_key=None order_value=None\n",
      "\n",
      "📌 Point : id='0009fd3e-a82b-2522-36ec-5724281362e8' payload={'user_id': '32d26f22-4149-505f-0ed3-fb8f76b7dd5b', 'owner_id': '7f8f6344-a910-58d2-56f5-5d0438a907cb', 'score': 0.3658347, 'filter_used': {'collection': 'user_agent_listings', 'state': ['Manhattan', 'New York City'], 'price_owner': 1200, 'bedrooms_owner': 1, 'available_from': 'January'}, 'timestamp': 1754906545.6167116} vector=None shard_key=None order_value=None\n",
      "\n",
      "📌 Point : id='000ce72d-1d69-68f1-132b-8725a6b221bc' payload={'user_id': '164cb797-f46f-6f35-91d1-6a258ea0c067', 'owner_id': 'a3371bd7-ae6f-0e73-4663-d93e919d6ef3', 'score': 0.29604378, 'filter_used': {'collection': 'user_agent_listings', 'state': ['New York City'], 'price_owner': 3000, 'bedrooms_owner': 1, 'available_from': None}, 'timestamp': 1754906659.582357} vector=None shard_key=None order_value=None\n",
      "\n",
      "📌 Point : id='000cf68d-e62b-7676-7415-6da2e2d0eb2f' payload={'user_id': 'a46d91bd-e4fa-82f4-ca62-ed9243c08781', 'owner_id': '0be3960f-d300-3ebf-7243-4ea1deae8d34', 'score': 0.49607638, 'filter_used': {'collection': 'user_agent_listings', 'state': ['Williamsburg', 'Brooklyn', 'New York City'], 'price_owner': 2500, 'bedrooms_owner': 1, 'available_from': 'October'}, 'timestamp': 1754906136.414623} vector=None shard_key=None order_value=None\n",
      "\n",
      "📌 Point : id='00115e20-645b-5453-6b9a-17c00fb7c4ff' payload={'user_id': '82fe9746-47f6-48d6-b00d-012f560d5e8b', 'owner_id': '1ee8a296-d62a-4ac4-4fda-fc1bf38a90ec', 'score': 0.56291485, 'filter_used': {'collection': 'user_agent_listings', 'state': ['Bed-Stuy', 'Brooklyn', 'New York City'], 'price_owner': None, 'bedrooms_owner': 1, 'available_from': None}, 'timestamp': 1754906206.771309} vector=None shard_key=None order_value=None\n",
      "\n",
      "📌 Point : id='0014a3cd-f95e-f3a3-d836-f6c31432a819' payload={'user_id': '584757e2-c380-0e8b-9281-556f7327a935', 'owner_id': '5191d24b-c87d-ca7a-c9b0-d862e57d8263', 'score': 0.60627866, 'filter_used': {'collection': 'user_agent_listings', 'state': ['Astoria', 'Queens', 'New York City'], 'price_owner': None, 'bedrooms_owner': 1, 'available_from': None}, 'timestamp': 1754906395.0404} vector=None shard_key=None order_value=None\n",
      "\n",
      "📌 Point : id='001ee4d7-c6d3-0a67-54b1-b55dc19e6337' payload={'user_id': 'c9c30beb-0d66-44dd-fa83-3d152f3fd57f', 'owner_id': '730288c7-0e58-fe6b-3e16-e61fe97c2125', 'score': 0.678255, 'filter_used': {'collection': 'user_agent_listings', 'state': ['Bushwick', 'New York City'], 'price_owner': None, 'bedrooms_owner': 1, 'available_from': None}, 'timestamp': 1754906500.3564265} vector=None shard_key=None order_value=None\n"
     ]
    }
   ],
   "source": [
    "from utils.qdrant_connection import scroll_qdrant\n",
    "print(\"Scrolling through similarity_collection:\")\n",
    "list = scroll_qdrant(\"similarity_collection\", limit=10)[0]\n",
    "for point in list:\n",
    "    print(f\"\\n📌 Point : {point}\")"
   ]
  },
  {
   "cell_type": "markdown",
   "id": "dd16febb",
   "metadata": {},
   "source": [
    "## matching"
   ]
  },
  {
   "cell_type": "code",
   "execution_count": 1,
   "id": "0bd4fc50",
   "metadata": {},
   "outputs": [
    {
     "name": "stdout",
     "output_type": "stream",
     "text": [
      "➕ Uploading owner listing…\n",
      "✅ Upserted 1 points into 'owner_agent_listings' without resetting the collection.\n",
      "✅ Uploaded owner listing with ID: ec4161ac90d8bb2a867fe5fe03a441b7 to 'owner_agent_listings'\n",
      "Owner point id: ec4161ac90d8bb2a867fe5fe03a441b7\n",
      "\n",
      "➕ Uploading user query…\n",
      "✅ Upserted 1 points into 'user_agent_listings' without resetting the collection.\n",
      "✅ Uploaded user query with ID: d2440de8efa334ada83f6a857954a293 to 'user_agent_listings'\n",
      "User point id: d2440de8efa334ada83f6a857954a293\n"
     ]
    }
   ],
   "source": [
    "\n",
    "from agents.owner_parser_agent import invoke_owner_parser_agent\n",
    "from agents.user_parser_agent import invoke_user_parser_agent\n",
    "from agents.matching_agent import match_for_new_user, match_for_new_owner\n",
    "\n",
    "# --- 1) Inputs (aligned) ---\n",
    "owner_input = \"\"\"\n",
    "Spacious 2-bedroom apartment in san fransisco, just 5 minutes from the subway.\n",
    "Includes a balcony with city views, newly renovated kitchen, and in-unit washer/dryer.\n",
    "$2400 per month, available starting October.\n",
    "Picture: https://example.com/apt-photos/astoria2.jpg\n",
    "\"\"\".strip()\n",
    "\n",
    "user_input = \"\"\"\n",
    "Looking for a 2-bedroom place in san fransisco, ideally close to the subway.\n",
    "Quiet building, good for working from home; in-unit laundry is a plus.\n",
    "My budget is up to $2,500 per month and I'd like to move in by October.\n",
    "\"\"\".strip()\n",
    "\n",
    "# --- 2) Parse + upload (each returns the new point id) ---\n",
    "print(\"➕ Uploading owner listing…\")\n",
    "owner_point_id = invoke_owner_parser_agent(owner_input)\n",
    "print(\"Owner point id:\", owner_point_id)\n",
    "\n",
    "print(\"\\n➕ Uploading user query…\")\n",
    "user_point_id = invoke_user_parser_agent(user_input)\n",
    "print(\"User point id:\", user_point_id)"
   ]
  },
  {
   "cell_type": "code",
   "execution_count": 2,
   "id": "48645f39",
   "metadata": {},
   "outputs": [
    {
     "name": "stdout",
     "output_type": "stream",
     "text": [
      "\n",
      "🔎 Matching for NEW USER → owner listings …\n",
      "🔎 Matching for NEW OWNER → user queries …\n"
     ]
    }
   ],
   "source": [
    "# --- 3) Match both directions ---\n",
    "TOP_K = 10\n",
    "\n",
    "print(\"\\n🔎 Matching for NEW USER → owner listings …\")\n",
    "user_matches = match_for_new_user(user_point_id, top_k=TOP_K)\n",
    "\n",
    "print(\"🔎 Matching for NEW OWNER → user queries …\")\n",
    "owner_matches = match_for_new_owner(owner_point_id, top_k=TOP_K)"
   ]
  },
  {
   "cell_type": "code",
   "execution_count": null,
   "id": "94044115",
   "metadata": {},
   "outputs": [
    {
     "name": "stdout",
     "output_type": "stream",
     "text": [
      "Top 2 owners for this user:\n",
      "  score=0.6803  owner_id=ec4161ac-90d8-bb2a-867f-e5fe03a441b7\n",
      "    [state: San Francisco | price: 2400 | bedrooms: 2 | available_from: October] soft: spacious, 5 minutes from the subway, balcony with city views, newly renovated kitchen, in-unit washer/dryer\n",
      "  score=0.5245  owner_id=d3dc4afb-25c2-f237-5b25-32620bcd2c94\n",
      "    [state: San Francisco | price: 1600 | bedrooms: 2 | available_from: October] soft: centrally located, stunning views of the Bay Bridge, in-unit laundry, private balcony, outdoor swimming pool, hot tub, g…\n",
      "Top 4 users for this owner:\n",
      "  score=0.6803  user_id=d2440de8-efa3-34ad-a83f-6a857954a293\n",
      "    [state: San Francisco | price: 2500 | bedrooms: 2 | available_from: October] soft: quiet building, good for working from home, close to the subway, in-unit laundry is a plus\n",
      "  score=0.5047  user_id=287d155c-66bb-e4f9-5e90-3cca55623a6d\n",
      "    [state: San Francisco | price: 2500 | bedrooms: 1 | available_from: October] soft: modern, centrally located, easy access to co-working spaces, close to local dining\n",
      "  score=0.4813  user_id=6c1a808a-e403-fb75-3fe0-d7440d76307a\n",
      "    [state: San Francisco | price: 2500 | bedrooms: 1 | available_from: October] soft: quiet area, close to public transportation, close to amenities\n",
      "  score=0.3716  user_id=79955480-3812-5c1b-67ef-f2ca1eedbaa6\n",
      "    [state: San Francisco | price: 2500 | bedrooms: 1 | available_from: October] soft: furnished, vibrant atmosphere, suitable for remote work\n"
     ]
    }
   ],
   "source": [
    "from utils.qdrant_connection import print_owner_matches_with_details , print_user_matches_with_details\n",
    "\n",
    "print_user_matches_with_details(user_matches, top_k=5)\n",
    "print_owner_matches_with_details(owner_matches, top_k=5)\n"
   ]
  },
  {
   "cell_type": "code",
   "execution_count": null,
   "id": "8f5b6b19",
   "metadata": {},
   "outputs": [],
   "source": []
  },
  {
   "cell_type": "code",
   "execution_count": null,
   "id": "e26fb1c4",
   "metadata": {},
   "outputs": [],
   "source": []
  },
  {
   "cell_type": "markdown",
   "id": "9cbd3cdd",
   "metadata": {},
   "source": [
    "## Decicion"
   ]
  },
  {
   "cell_type": "code",
   "execution_count": 1,
   "id": "777c2627",
   "metadata": {},
   "outputs": [
    {
     "name": "stdout",
     "output_type": "stream",
     "text": [
      "Testing collection: 'sampled_owner_agent_listings' | count = 50\n"
     ]
    },
    {
     "data": {
      "application/vnd.jupyter.widget-view+json": {
       "model_id": "c714ccbdc8b04f869e899fd3f01b4893",
       "version_major": 2,
       "version_minor": 0
      },
      "text/plain": [
       "ManageShowings:   0%|          | 0/50 [00:00<?, ?owner/s]"
      ]
     },
     "metadata": {},
     "output_type": "display_data"
    },
    {
     "name": "stdout",
     "output_type": "stream",
     "text": [
      "\n",
      "Run time: 65.26s\n",
      "Owners processed: 50 | with decisions: 50 | errors: 0\n",
      "SHOW=1: 41 | total invites: 175\n",
      "\n",
      "Sample decisions:\n",
      "- owner_id=044e9ae9-c6a7-c53d-a570-2a26b4e455ed  considered=10  mean_top5=0.496  decision={'show': '1', 'num': '3'}  sample=[{'user_id': '698a8e67-0083-b180-80fd-64514771d158', 'score': 0.7215}, {'user_id': 'b5579128-f5d0-6056-747e-75e0ad260a8c', 'score': 0.4769}, {'user_id': 'c6b8a2b9-c691-2780-8711-d14e3b80241a', 'score': 0.4531}]\n",
      "- owner_id=04cc4a5f-1b97-b3e0-be73-94dc559d189b  considered=6  mean_top5=0.5221  decision={'show': '1', 'num': '3'}  sample=[{'user_id': 'b222c70e-08ba-0212-fc0d-7d6b45a5b64b', 'score': 0.7772}, {'user_id': '04315916-c790-51ad-2d6e-20a4a380a2d7', 'score': 0.5228}, {'user_id': 'cdafe5f3-afad-0463-cba3-e97ac54abefc', 'score': 0.4898}]\n",
      "- owner_id=06e4884b-aa37-22a6-e9bd-1fd6a76c3f8a  considered=10  mean_top5=0.6179  decision={'show': '1', 'num': '5'}  sample=[{'user_id': '4e959be2-f2d2-d685-5a46-430b21f93d6b', 'score': 0.637}, {'user_id': 'b2be4a3a-c989-9143-39d1-b1827c3aa36b', 'score': 0.6228}, {'user_id': '8c003a51-9953-7db4-d1b9-4b9f7456b070', 'score': 0.6199}]\n",
      "- owner_id=08f44c3c-106a-7dc0-7c6d-75ee961e08e5  considered=10  mean_top5=0.6781  decision={'show': '1', 'num': '3'}  sample=[{'user_id': '5b201980-5121-39d3-3267-040d02c780a7', 'score': 0.7012}, {'user_id': '689a5cdf-5c50-b442-3e55-99a3f6d6f477', 'score': 0.7011}, {'user_id': '6db4050a-6ab8-03d4-f033-21bf3df29e4a', 'score': 0.6684}]\n",
      "- owner_id=0c5d2803-431d-8623-38db-94261add7a9a  considered=10  mean_top5=0.631  decision={'show': '1', 'num': '5'}  sample=[{'user_id': '36e6adce-202f-8de7-6ad0-24c5f7ee6794', 'score': 0.7923}, {'user_id': 'e87fa6b9-0333-dc54-eceb-45bbd60bce5d', 'score': 0.6013}, {'user_id': 'c716628b-6751-9fb4-0e5f-3104ffbf5c93', 'score': 0.5891}]\n",
      "- owner_id=0de873c2-5d50-a544-f1ce-0fc090e83a57  considered=10  mean_top5=0.5784  decision={'show': '1', 'num': '5'}  sample=[{'user_id': '02543539-fea9-19fd-d10d-3bfe6d0b1279', 'score': 0.7041}, {'user_id': 'bad8a610-fe50-c40b-4fe1-0f4615a57024', 'score': 0.5766}, {'user_id': 'd5a27b6c-e402-40d1-cf8a-b109a655ea04', 'score': 0.5476}]\n",
      "- owner_id=0f4af15c-6304-d387-d92d-e861cad83e87  considered=0  mean_top5=0.0  decision={'show': '0', 'num': '0'}  sample=[]\n",
      "- owner_id=155d10fa-fe6f-7539-962d-474e19949fae  considered=0  mean_top5=0.0  decision={'show': '0', 'num': '0'}  sample=[]\n",
      "\n",
      "Saved CSV → logs/showing_decisions_run_sampled_owner_agent_listings_20250812-124148.csv\n"
     ]
    }
   ],
   "source": [
    "# Test daily_llm_showing_decisions on the sampled collection\n",
    "\n",
    "import csv\n",
    "import time\n",
    "from datetime import datetime\n",
    "\n",
    "from agents.manage_showings_agent import daily_llm_showing_decisions, OWNER_COLLECTION\n",
    "from utils.qdrant_connection import client  # for count\n",
    "\n",
    "# ------------ Config you can tweak ------------\n",
    "TOP_K = 10             # how many matches per owner to consider\n",
    "WRITE_CSV = True       # set False to skip writing a log file\n",
    "MAX_PREVIEW = 8        # how many rows to print in console\n",
    "# ----------------------------------------------\n",
    "\n",
    "# Quick sanity check: sampled collection exists & size\n",
    "try:\n",
    "    cnt = client.count(collection_name=OWNER_COLLECTION, exact=True).count\n",
    "    print(f\"Testing collection: '{OWNER_COLLECTION}' | count = {cnt}\")\n",
    "except Exception as e:\n",
    "    raise RuntimeError(f\"Could not count collection '{OWNER_COLLECTION}': {e}\")\n",
    "\n",
    "t0 = time.time()\n",
    "results = daily_llm_showing_decisions(top_k=TOP_K)\n",
    "dt = time.time() - t0\n",
    "\n",
    "# Aggregate stats\n",
    "n_total = len(results)\n",
    "n_errors = sum(1 for r in results if \"error\" in r)\n",
    "n_decided = sum(1 for r in results if \"decision\" in r)\n",
    "n_show = sum(1 for r in results if r.get(\"decision\", {}).get(\"show\") == \"1\")\n",
    "total_invites = sum(int(r[\"decision\"][\"num\"]) for r in results if r.get(\"decision\", {}).get(\"show\") == \"1\")\n",
    "\n",
    "print(f\"\\nRun time: {dt:.2f}s\")\n",
    "print(f\"Owners processed: {n_total} | with decisions: {n_decided} | errors: {n_errors}\")\n",
    "print(f\"SHOW=1: {n_show} | total invites: {total_invites}\")\n",
    "\n",
    "# Preview a few rows\n",
    "print(\"\\nSample decisions:\")\n",
    "preview = 0\n",
    "for r in results:\n",
    "    if \"error\" in r:\n",
    "        print(f\"- owner_id={r['owner_id']}  ERROR: {r['error_type'] if 'error_type' in r else ''} {r['error']}\")\n",
    "    else:\n",
    "        dec = r[\"decision\"]\n",
    "        print(f\"- owner_id={r['owner_id']}  considered={r['considered']}  mean_top5={r['mean_top5']}  decision={dec}  sample={r['sample']}\")\n",
    "    preview += 1\n",
    "    if preview >= MAX_PREVIEW:\n",
    "        break\n",
    "\n",
    "# Optional: write CSV log\n",
    "if WRITE_CSV and results:\n",
    "    ts = datetime.utcnow().strftime(\"%Y%m%d-%H%M%S\")\n",
    "    path = f\"logs/showing_decisions_run_{OWNER_COLLECTION}_{ts}.csv\"\n",
    "    with open(path, \"w\", newline=\"\", encoding=\"utf-8\") as f:\n",
    "        w = csv.writer(f)\n",
    "        w.writerow([\"owner_id\", \"considered\", \"mean_top5\", \"show\", \"num\", \"sample\", \"error_type\", \"error\"])\n",
    "        for r in results:\n",
    "            if \"error\" in r:\n",
    "                w.writerow([r.get(\"owner_id\"), \"\", \"\", \"\", \"\", \"\", r.get(\"error_type\",\"\"), r.get(\"error\",\"\")])\n",
    "            else:\n",
    "                dec = r[\"decision\"]\n",
    "                w.writerow([\n",
    "                    r[\"owner_id\"],\n",
    "                    r[\"considered\"],\n",
    "                    r[\"mean_top5\"],\n",
    "                    dec.get(\"show\"),\n",
    "                    dec.get(\"num\"),\n",
    "                    r.get(\"sample\"),\n",
    "                    \"\",\n",
    "                    \"\"\n",
    "                ])\n",
    "    print(f\"\\nSaved CSV → {path}\")\n"
   ]
  }
 ],
 "metadata": {
  "kernelspec": {
   "display_name": "Python 3",
   "language": "python",
   "name": "python3"
  },
  "language_info": {
   "codemirror_mode": {
    "name": "ipython",
    "version": 3
   },
   "file_extension": ".py",
   "mimetype": "text/x-python",
   "name": "python",
   "nbconvert_exporter": "python",
   "pygments_lexer": "ipython3",
   "version": "3.11.9"
  }
 },
 "nbformat": 4,
 "nbformat_minor": 5
}
