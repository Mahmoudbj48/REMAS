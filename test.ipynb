{
 "cells": [
  {
   "cell_type": "markdown",
   "id": "1a6233dc",
   "metadata": {},
   "source": [
    "## User parser agent Tests"
   ]
  },
  {
   "cell_type": "code",
   "execution_count": null,
   "id": "1cba8fde",
   "metadata": {},
   "outputs": [
    {
     "name": "stdout",
     "output_type": "stream",
     "text": [
      "Running REMAS: run_user_parser_agent\n",
      "✅ Upserted 1 points into 'user_agent_listings' without resetting the collection.\n",
      "✅ Uploaded user query with ID: 6e9fd5b8e158c408a80980e25e049dac to 'user_agent_listings'\n"
     ]
    },
    {
     "data": {
      "text/plain": [
       "'6e9fd5b8e158c408a80980e25e049dac'"
      ]
     },
     "execution_count": 1,
     "metadata": {},
     "output_type": "execute_result"
    }
   ],
   "source": [
    "from agents.user_parser_agent import invoke_user_parser_agent\n",
    "\n",
    "print(\"Running REMAS: user_parser_agent\")\n",
    "user_input = input(\"Type your message: \")\n",
    "\n",
    "invoke_user_parser_agent(user_input=user_input)"
   ]
  },
  {
   "cell_type": "code",
   "execution_count": 3,
   "id": "6e64c3db",
   "metadata": {},
   "outputs": [
    {
     "name": "stdout",
     "output_type": "stream",
     "text": [
      "user Qdrant count: 1001\n"
     ]
    }
   ],
   "source": [
    "from utils.qdrant_connection import count_qdrant\n",
    "print(\"user Qdrant count:\", count_qdrant(\"user_agent_listings\"))"
   ]
  },
  {
   "cell_type": "code",
   "execution_count": 1,
   "id": "b0f76e17",
   "metadata": {},
   "outputs": [
    {
     "name": "stdout",
     "output_type": "stream",
     "text": [
      "\n",
      "📌 Point ID: 6e9fd5b8-e158-c408-a809-80e25e049dac\n",
      "Payload: {'listing_id': '6e9fd5b8e158c408a80980e25e049dac', 'state': ['Brooklyn', 'Queens'], 'picture_url': None, 'price': 2200, 'bedrooms': 2, 'available_from': 'October', 'soft_attributes': 'pet-friendly, close to public transportation, quiet neighborhood', 'source': 'user_query'}\n"
     ]
    }
   ],
   "source": [
    "from utils.qdrant_connection import get_point_by_id\n",
    "point_id = input(\"Enter the point ID to retrieve: \")\n",
    "point = get_point_by_id(\"user_agent_listings\", point_id)\n",
    "if point:\n",
    "    print(f\"\\n📌 Point ID: {point.id}\")\n",
    "    print(\"Payload:\", point.payload)\n",
    "else:\n",
    "    print(f\"No point found with ID: {point_id}\")    \n",
    "    "
   ]
  },
  {
   "cell_type": "markdown",
   "id": "61745f9d",
   "metadata": {},
   "source": [
    "## Owner parser agent Tests"
   ]
  },
  {
   "cell_type": "code",
   "execution_count": 1,
   "id": "fa570ef7",
   "metadata": {},
   "outputs": [
    {
     "name": "stdout",
     "output_type": "stream",
     "text": [
      "Running REMAS: owner_parser_agent\n",
      "✅ Upserted 1 points into 'owner_agent_listings' without resetting the collection.\n",
      "✅ Uploaded owner listing with ID: 140d392e74131263a9ca770865306117 to 'owner_agent_listings'\n"
     ]
    },
    {
     "data": {
      "text/plain": [
       "'140d392e74131263a9ca770865306117'"
      ]
     },
     "execution_count": 1,
     "metadata": {},
     "output_type": "execute_result"
    }
   ],
   "source": [
    "from agents.owner_parser_agent import invoke_owner_parser_agent\n",
    "\n",
    "print(\"Running REMAS: owner_parser_agent\")\n",
    "owner_input = input(\"Type your message: \")\n",
    "\n",
    "invoke_owner_parser_agent(owner_input=owner_input)\n"
   ]
  },
  {
   "cell_type": "code",
   "execution_count": 2,
   "id": "ee4f5715",
   "metadata": {},
   "outputs": [
    {
     "name": "stdout",
     "output_type": "stream",
     "text": [
      "owner Qdrant count: 1008\n"
     ]
    }
   ],
   "source": [
    "from utils.qdrant_connection import count_qdrant\n",
    "print(\"owner Qdrant count:\", count_qdrant(\"owner_agent_listings\"))"
   ]
  },
  {
   "cell_type": "code",
   "execution_count": 4,
   "id": "fa95cb75",
   "metadata": {},
   "outputs": [
    {
     "name": "stdout",
     "output_type": "stream",
     "text": [
      "\n",
      "📌 Point ID: 140d392e-7413-1263-a9ca-770865306117\n",
      "Payload: {'listing_id': '140d392e74131263a9ca770865306117', 'state': ['Astoria', 'Queens'], 'picture_url': 'https://example.com/apt-photos/astoria2.jpg', 'price': 2400, 'bedrooms': 2, 'available_from': 'October', 'soft_attributes': 'spacious, 5 minutes from the subway, balcony with city views, newly renovated kitchen, in-unit washer/dryer'}\n"
     ]
    }
   ],
   "source": [
    "from utils.qdrant_connection import get_point_by_id\n",
    "point_id = input(\"Enter the point ID to retrieve: \")\n",
    "point = get_point_by_id(\"owner_agent_listings\", point_id)\n",
    "if point:\n",
    "    print(f\"\\n📌 Point ID: {point.id}\")\n",
    "    print(\"Payload:\", point.payload)\n",
    "else:\n",
    "    print(f\"No point found with ID: {point_id}\")    "
   ]
  },
  {
   "cell_type": "code",
   "execution_count": 10,
   "id": "8275d4b7",
   "metadata": {},
   "outputs": [
    {
     "name": "stdout",
     "output_type": "stream",
     "text": [
      "similarity_collection Qdrant count: 30064\n"
     ]
    }
   ],
   "source": [
    "# pront count similatity \n",
    "from utils.qdrant_connection import count_qdrant\n",
    "print(\"similarity_collection Qdrant count:\", count_qdrant(\"similarity_collection\"))     "
   ]
  },
  {
   "cell_type": "code",
   "execution_count": 11,
   "id": "d356f89d",
   "metadata": {},
   "outputs": [
    {
     "name": "stdout",
     "output_type": "stream",
     "text": [
      "Scrolling through similarity_collection:\n",
      "\n",
      "📌 Point : id='00002dfd-2619-8928-90fc-a885f9bf7e7c' payload={'user_id': 'b4c4af9a-95cf-3b26-d0d3-6cb6285752e8', 'owner_id': 'd9e08424-bc77-656e-72f3-44c488406268', 'score': 0.55240315, 'filter_used': {'collection': 'user_agent_listings', 'state': ['New York City'], 'price_owner': None, 'bedrooms_owner': 5, 'available_from': None}, 'timestamp': 1754906840.3216486} vector=None shard_key=None order_value=None\n",
      "\n",
      "📌 Point : id='00018f3a-6b1b-7701-9322-70b25d96fae7' payload={'user_id': '3e91e308-97c8-5c72-b42a-b61498983051', 'owner_id': '5fe3c73d-69fa-29d4-8b1b-34f6fab0f107', 'score': 0.6045309, 'filter_used': {'collection': 'user_agent_listings', 'state': ['Crown Heights', 'Brooklyn', 'New York City'], 'price_owner': 2000, 'bedrooms_owner': 1, 'available_from': None}, 'timestamp': 1754906437.3464315} vector=None shard_key=None order_value=None\n",
      "\n",
      "📌 Point : id='00034545-0053-1cfc-2e2e-670af297d33d' payload={'user_id': '07a040bc-f51e-501d-6d89-9ed5dbf4d754', 'owner_id': 'bd42af27-5701-689a-13a5-2396972aa20c', 'score': 0.5314168, 'filter_used': {'collection': 'user_agent_listings', 'state': ['Financial District', 'Seaport', 'New York City'], 'price_owner': None, 'bedrooms_owner': 1, 'available_from': None}, 'timestamp': 1754906752.0427778} vector=None shard_key=None order_value=None\n",
      "\n",
      "📌 Point : id='0009f908-0364-e598-b459-1a22840b4acf' payload={'user_id': '3443c56c-4b82-996b-7ae9-1529e441a150', 'owner_id': 'f033d459-6a83-934b-a34a-c5a7c873d2fe', 'score': 0.5395528, 'filter_used': {'collection': 'user_agent_listings', 'state': ['San Francisco'], 'price_owner': None, 'bedrooms_owner': 1, 'available_from': None}, 'timestamp': 1754906904.720005} vector=None shard_key=None order_value=None\n",
      "\n",
      "📌 Point : id='0009fd3e-a82b-2522-36ec-5724281362e8' payload={'user_id': '32d26f22-4149-505f-0ed3-fb8f76b7dd5b', 'owner_id': '7f8f6344-a910-58d2-56f5-5d0438a907cb', 'score': 0.3658347, 'filter_used': {'collection': 'user_agent_listings', 'state': ['Manhattan', 'New York City'], 'price_owner': 1200, 'bedrooms_owner': 1, 'available_from': 'January'}, 'timestamp': 1754906545.6167116} vector=None shard_key=None order_value=None\n",
      "\n",
      "📌 Point : id='000ce72d-1d69-68f1-132b-8725a6b221bc' payload={'user_id': '164cb797-f46f-6f35-91d1-6a258ea0c067', 'owner_id': 'a3371bd7-ae6f-0e73-4663-d93e919d6ef3', 'score': 0.29604378, 'filter_used': {'collection': 'user_agent_listings', 'state': ['New York City'], 'price_owner': 3000, 'bedrooms_owner': 1, 'available_from': None}, 'timestamp': 1754906659.582357} vector=None shard_key=None order_value=None\n",
      "\n",
      "📌 Point : id='000cf68d-e62b-7676-7415-6da2e2d0eb2f' payload={'user_id': 'a46d91bd-e4fa-82f4-ca62-ed9243c08781', 'owner_id': '0be3960f-d300-3ebf-7243-4ea1deae8d34', 'score': 0.49607638, 'filter_used': {'collection': 'user_agent_listings', 'state': ['Williamsburg', 'Brooklyn', 'New York City'], 'price_owner': 2500, 'bedrooms_owner': 1, 'available_from': 'October'}, 'timestamp': 1754906136.414623} vector=None shard_key=None order_value=None\n",
      "\n",
      "📌 Point : id='00115e20-645b-5453-6b9a-17c00fb7c4ff' payload={'user_id': '82fe9746-47f6-48d6-b00d-012f560d5e8b', 'owner_id': '1ee8a296-d62a-4ac4-4fda-fc1bf38a90ec', 'score': 0.56291485, 'filter_used': {'collection': 'user_agent_listings', 'state': ['Bed-Stuy', 'Brooklyn', 'New York City'], 'price_owner': None, 'bedrooms_owner': 1, 'available_from': None}, 'timestamp': 1754906206.771309} vector=None shard_key=None order_value=None\n",
      "\n",
      "📌 Point : id='0014a3cd-f95e-f3a3-d836-f6c31432a819' payload={'user_id': '584757e2-c380-0e8b-9281-556f7327a935', 'owner_id': '5191d24b-c87d-ca7a-c9b0-d862e57d8263', 'score': 0.60627866, 'filter_used': {'collection': 'user_agent_listings', 'state': ['Astoria', 'Queens', 'New York City'], 'price_owner': None, 'bedrooms_owner': 1, 'available_from': None}, 'timestamp': 1754906395.0404} vector=None shard_key=None order_value=None\n",
      "\n",
      "📌 Point : id='001ee4d7-c6d3-0a67-54b1-b55dc19e6337' payload={'user_id': 'c9c30beb-0d66-44dd-fa83-3d152f3fd57f', 'owner_id': '730288c7-0e58-fe6b-3e16-e61fe97c2125', 'score': 0.678255, 'filter_used': {'collection': 'user_agent_listings', 'state': ['Bushwick', 'New York City'], 'price_owner': None, 'bedrooms_owner': 1, 'available_from': None}, 'timestamp': 1754906500.3564265} vector=None shard_key=None order_value=None\n"
     ]
    }
   ],
   "source": [
    "from utils.qdrant_connection import scroll_qdrant\n",
    "print(\"Scrolling through similarity_collection:\")\n",
    "list = scroll_qdrant(\"similarity_collection\", limit=10)[0]\n",
    "for point in list:\n",
    "    print(f\"\\n📌 Point : {point}\")"
   ]
  },
  {
   "cell_type": "markdown",
   "id": "dd16febb",
   "metadata": {},
   "source": [
    "## matching"
   ]
  },
  {
   "cell_type": "code",
   "execution_count": null,
   "id": "0bd4fc50",
   "metadata": {},
   "outputs": [
    {
     "name": "stdout",
     "output_type": "stream",
     "text": [
      "➕ Uploading owner listing…\n",
      "✅ Upserted 1 points into 'owner_agent_listings' without resetting the collection.\n",
      "✅ Uploaded owner listing with ID: 1935037721de772c96a4cb773255090f to 'owner_agent_listings'\n",
      "Owner point id: 1935037721de772c96a4cb773255090f\n",
      "\n",
      "➕ Uploading user query…\n",
      "✅ Upserted 1 points into 'user_agent_listings' without resetting the collection.\n",
      "✅ Uploaded user query with ID: 0ebe37acc5ac1c909601d12f03a526f2 to 'user_agent_listings'\n",
      "User point id: 0ebe37acc5ac1c909601d12f03a526f2\n"
     ]
    }
   ],
   "source": [
    "\n",
    "from agents.owner_parser_agent import invoke_owner_parser_agent\n",
    "from agents.user_parser_agent import invoke_user_parser_agent\n",
    "from agents.matching_agent import match_for_new_user, match_for_new_owner\n",
    "\n",
    "# --- 1) Inputs (aligned) ---\n",
    "owner_input = \"\"\"\n",
    "Spacious 2-bedroom apartment in san fransisco, just 5 minutes from the subway.\n",
    "Includes a balcony with city views, newly renovated kitchen, and in-unit washer/dryer.\n",
    "$2400 per month, available starting October.\n",
    "Picture: https://example.com/apt-photos/astoria2.jpg\n",
    "\"\"\".strip()\n",
    "\n",
    "user_input = \"\"\"\n",
    "Looking for a 2-bedroom place in san fransisco, ideally close to the subway.\n",
    "Quiet building, good for working from home; in-unit laundry is a plus.\n",
    "My budget is up to $2,500 per month and I'd like to move in by October.\n",
    "\"\"\".strip()\n",
    "\n",
    "# --- 2) Parse + upload (each returns the new point id) ---\n",
    "print(\"➕ Uploading owner listing…\")\n",
    "owner_point_id = invoke_owner_parser_agent(owner_input)\n",
    "print(\"Owner point id:\", owner_point_id)\n",
    "\n",
    "print(\"\\n➕ Uploading user query…\")\n",
    "user_point_id = invoke_user_parser_agent(user_input)\n",
    "print(\"User point id:\", user_point_id)"
   ]
  },
  {
   "cell_type": "code",
   "execution_count": 18,
   "id": "48645f39",
   "metadata": {},
   "outputs": [
    {
     "name": "stdout",
     "output_type": "stream",
     "text": [
      "\n",
      "🔎 Matching for NEW USER → owner listings …\n",
      "🔎 Matching for NEW OWNER → user queries …\n"
     ]
    }
   ],
   "source": [
    "# --- 3) Match both directions ---\n",
    "TOP_K = 10\n",
    "\n",
    "print(\"\\n🔎 Matching for NEW USER → owner listings …\")\n",
    "user_matches = match_for_new_user(user_point_id, top_k=TOP_K)\n",
    "\n",
    "print(\"🔎 Matching for NEW OWNER → user queries …\")\n",
    "owner_matches = match_for_new_owner(owner_point_id, top_k=TOP_K)"
   ]
  },
  {
   "cell_type": "code",
   "execution_count": null,
   "id": "dd36f661",
   "metadata": {},
   "outputs": [],
   "source": [
    "# --- 4) Helper to find rank of counterpart in results ---\n",
    "def rank_of(target_id: str, results: list) -> tuple[int | None, float | None]:\n",
    "    for idx, r in enumerate(results, start=1):\n",
    "        # results from matching_agent are dicts with 'user_id' or 'owner_id'\n",
    "        other_id = r.get(\"owner_id\") or r.get(\"user_id\")\n",
    "        if str(other_id) == str(target_id):\n",
    "            return idx, r.get(\"score\")\n",
    "    return None, None\n",
    "\n",
    "# --- 4) Helper to find rank of counterpart in results ---\n",
    "def rank_of(target_id: str, results: list) -> tuple[int | None, float | None]:\n",
    "    for idx, r in enumerate(results, start=1):\n",
    "        # results from matching_agent are dicts with 'user_id' or 'owner_id'\n",
    "        other_id = r.get(\"owner_id\") or r.get(\"user_id\")\n",
    "        if str(other_id) == str(target_id):\n",
    "            return idx, r.get(\"score\")\n",
    "    return None, None\n",
    "\n",
    "# --- 5) Evaluate & print ---\n",
    "def print_top(results, label, key):\n",
    "    print(f\"\\nTop {min(len(results), 5)} {label}:\")\n",
    "    for r in results[:5]:\n",
    "        print(f\"  {key}={r.get(key)}  score={round(r.get('score', 0.0), 4)}\")"
   ]
  },
  {
   "cell_type": "code",
   "execution_count": 21,
   "id": "94044115",
   "metadata": {},
   "outputs": [
    {
     "name": "stdout",
     "output_type": "stream",
     "text": [
      "\n",
      "Top 1 owners for this user:\n",
      "  owner_id=19350377-21de-772c-96a4-cb773255090f  score=0.7138\n",
      "\n",
      "Top 1 users for this owner:\n",
      "  user_id=0ebe37ac-c5ac-1c90-9601-d12f03a526f2  score=0.7138\n"
     ]
    }
   ],
   "source": [
    "print_top(user_matches,  \"owners for this user\", \"owner_id\")\n",
    "print_top(owner_matches, \"users for this owner\", \"user_id\")"
   ]
  },
  {
   "cell_type": "code",
   "execution_count": 22,
   "id": "a4c8499f",
   "metadata": {},
   "outputs": [],
   "source": [
    "u_rank, u_score = rank_of(owner_point_id, user_matches)\n",
    "o_rank, o_score = rank_of(user_point_id, owner_matches)\n"
   ]
  },
  {
   "cell_type": "code",
   "execution_count": 24,
   "id": "d3260077",
   "metadata": {},
   "outputs": [
    {
     "name": "stdout",
     "output_type": "stream",
     "text": [
      "\n",
      "📊 Verification:\n",
      "  Owner NOT found in USER→OWNERS top list – consider relaxing filters or raising TOP_K.\n",
      "  User NOT found in OWNER→USERS top list – consider relaxing filters or raising TOP_K.\n",
      "\n",
      "✅ Smoke test completed.\n"
     ]
    }
   ],
   "source": [
    "\n",
    "print(\"\\n📊 Verification:\")\n",
    "if u_rank:\n",
    "    print(f\"  Owner appears in USER→OWNERS at rank #{u_rank} (score={round(u_score, 4)})\")\n",
    "else:\n",
    "    print(\"  Owner NOT found in USER→OWNERS top list – consider relaxing filters or raising TOP_K.\")\n",
    "\n",
    "if o_rank:\n",
    "    print(f\"  User appears in OWNER→USERS at rank #{o_rank} (score={round(o_score, 4)})\")\n",
    "else:\n",
    "    print(\"  User NOT found in OWNER→USERS top list – consider relaxing filters or raising TOP_K.\")\n",
    "\n",
    "print(\"\\n✅ Smoke test completed.\")\n",
    "\n"
   ]
  },
  {
   "cell_type": "code",
   "execution_count": null,
   "id": "8f5b6b19",
   "metadata": {},
   "outputs": [],
   "source": []
  }
 ],
 "metadata": {
  "kernelspec": {
   "display_name": "Python 3",
   "language": "python",
   "name": "python3"
  },
  "language_info": {
   "codemirror_mode": {
    "name": "ipython",
    "version": 3
   },
   "file_extension": ".py",
   "mimetype": "text/x-python",
   "name": "python",
   "nbconvert_exporter": "python",
   "pygments_lexer": "ipython3",
   "version": "3.11.9"
  }
 },
 "nbformat": 4,
 "nbformat_minor": 5
}
