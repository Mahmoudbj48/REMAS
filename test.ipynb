{
 "cells": [
  {
   "cell_type": "markdown",
   "id": "1a6233dc",
   "metadata": {},
   "source": [
    "## User parser agent Tests"
   ]
  },
  {
   "cell_type": "code",
   "execution_count": null,
   "id": "1cba8fde",
   "metadata": {},
   "outputs": [
    {
     "name": "stdout",
     "output_type": "stream",
     "text": [
      "Running REMAS: run_user_parser_agent\n",
      "✅ Upserted 1 points into 'user_agent_listings' without resetting the collection.\n",
      "✅ Uploaded user query with ID: 6e9fd5b8e158c408a80980e25e049dac to 'user_agent_listings'\n"
     ]
    },
    {
     "data": {
      "text/plain": [
       "'6e9fd5b8e158c408a80980e25e049dac'"
      ]
     },
     "execution_count": 1,
     "metadata": {},
     "output_type": "execute_result"
    }
   ],
   "source": [
    "from agents.user_parser_agent import invoke_user_parser_agent\n",
    "\n",
    "print(\"Running REMAS: user_parser_agent\")\n",
    "user_input = input(\"Type your message: \")\n",
    "\n",
    "invoke_user_parser_agent(user_input=user_input)"
   ]
  },
  {
   "cell_type": "code",
   "execution_count": 3,
   "id": "6e64c3db",
   "metadata": {},
   "outputs": [
    {
     "name": "stdout",
     "output_type": "stream",
     "text": [
      "user Qdrant count: 1001\n"
     ]
    }
   ],
   "source": [
    "from utils.qdrant_connection import count_qdrant\n",
    "print(\"user Qdrant count:\", count_qdrant(\"user_agent_listings\"))"
   ]
  },
  {
   "cell_type": "code",
   "execution_count": 1,
   "id": "b0f76e17",
   "metadata": {},
   "outputs": [
    {
     "name": "stdout",
     "output_type": "stream",
     "text": [
      "\n",
      "📌 Point ID: 6e9fd5b8-e158-c408-a809-80e25e049dac\n",
      "Payload: {'listing_id': '6e9fd5b8e158c408a80980e25e049dac', 'state': ['Brooklyn', 'Queens'], 'picture_url': None, 'price': 2200, 'bedrooms': 2, 'available_from': 'October', 'soft_attributes': 'pet-friendly, close to public transportation, quiet neighborhood', 'source': 'user_query'}\n"
     ]
    }
   ],
   "source": [
    "from utils.qdrant_connection import get_point_by_id\n",
    "point_id = input(\"Enter the point ID to retrieve: \")\n",
    "point = get_point_by_id(\"user_agent_listings\", point_id)\n",
    "if point:\n",
    "    print(f\"\\n📌 Point ID: {point.id}\")\n",
    "    print(\"Payload:\", point.payload)\n",
    "else:\n",
    "    print(f\"No point found with ID: {point_id}\")    \n",
    "    "
   ]
  },
  {
   "cell_type": "markdown",
   "id": "61745f9d",
   "metadata": {},
   "source": [
    "## Owner parser agent Tests"
   ]
  },
  {
   "cell_type": "code",
   "execution_count": 1,
   "id": "fa570ef7",
   "metadata": {},
   "outputs": [
    {
     "name": "stdout",
     "output_type": "stream",
     "text": [
      "Running REMAS: owner_parser_agent\n",
      "✅ Upserted 1 points into 'owner_agent_listings' without resetting the collection.\n",
      "✅ Uploaded owner listing with ID: 140d392e74131263a9ca770865306117 to 'owner_agent_listings'\n"
     ]
    },
    {
     "data": {
      "text/plain": [
       "'140d392e74131263a9ca770865306117'"
      ]
     },
     "execution_count": 1,
     "metadata": {},
     "output_type": "execute_result"
    }
   ],
   "source": [
    "from agents.owner_parser_agent import invoke_owner_parser_agent\n",
    "\n",
    "print(\"Running REMAS: owner_parser_agent\")\n",
    "owner_input = input(\"Type your message: \")\n",
    "\n",
    "invoke_owner_parser_agent(owner_input=owner_input)\n"
   ]
  },
  {
   "cell_type": "code",
   "execution_count": 4,
   "id": "ee4f5715",
   "metadata": {},
   "outputs": [
    {
     "name": "stdout",
     "output_type": "stream",
     "text": [
      "owner Qdrant count: 1008\n"
     ]
    }
   ],
   "source": [
    "from utils.qdrant_connection import count_qdrant\n",
    "print(\"owner Qdrant count:\", count_qdrant(\"owner_agent_listings\"))"
   ]
  },
  {
   "cell_type": "code",
   "execution_count": null,
   "id": "fa95cb75",
   "metadata": {},
   "outputs": [],
   "source": [
    "from utils.qdrant_connection import get_point_by_id\n",
    "point_id = input(\"Enter the point ID to retrieve: \")\n",
    "point = get_point_by_id(\"owner_agent_listings\", point_id)\n",
    "if point:\n",
    "    print(f\"\\n📌 Point ID: {point.id}\")\n",
    "    print(\"Payload:\", point.payload)\n",
    "else:\n",
    "    print(f\"No point found with ID: {point_id}\")    "
   ]
  },
  {
   "cell_type": "code",
   "execution_count": null,
   "id": "9c893e2c",
   "metadata": {},
   "outputs": [],
   "source": []
  }
 ],
 "metadata": {
  "kernelspec": {
   "display_name": "Python 3",
   "language": "python",
   "name": "python3"
  },
  "language_info": {
   "codemirror_mode": {
    "name": "ipython",
    "version": 3
   },
   "file_extension": ".py",
   "mimetype": "text/x-python",
   "name": "python",
   "nbconvert_exporter": "python",
   "pygments_lexer": "ipython3",
   "version": "3.11.9"
  }
 },
 "nbformat": 4,
 "nbformat_minor": 5
}
