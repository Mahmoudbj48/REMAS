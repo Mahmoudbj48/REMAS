{
 "cells": [
  {
   "cell_type": "code",
   "execution_count": null,
   "id": "63c6087d",
   "metadata": {},
   "outputs": [],
   "source": []
  },
  {
   "cell_type": "markdown",
   "id": "0164daaa",
   "metadata": {},
   "source": [
    "Cell 1 — Setup & Inputs (Miami)"
   ]
  },
  {
   "cell_type": "code",
   "execution_count": 2,
   "id": "dc1400fa",
   "metadata": {},
   "outputs": [
    {
     "name": "stdout",
     "output_type": "stream",
     "text": [
      "Inputs ready.\n"
     ]
    }
   ],
   "source": [
    "# --- Setup imports & helpers ---\n",
    "from agents.owner_parser_agent import invoke_owner_parser_agent\n",
    "from agents.user_parser_agent import invoke_user_parser_agent\n",
    "from agents.matching_agent import match_for_new_user, match_for_new_owner\n",
    "from utils.qdrant_connection import client , SIM_COLLECTION , USER_COLLECTION , OWNER_COLLECTION\n",
    "from qdrant_client.models import PayloadSchemaType\n",
    "from qdrant_client.http import exceptions as qexc\n",
    "\n",
    "\n",
    "def ensure_similarity_indexes():\n",
    "    \"\"\"Ensure similarity_collection has the payload indexes needed for filtering.\"\"\"\n",
    "    for field, schema in [\n",
    "        (\"owner_id\", PayloadSchemaType.KEYWORD),\n",
    "        (\"user_id\",  PayloadSchemaType.KEYWORD),\n",
    "    ]:\n",
    "        try:\n",
    "            client.create_payload_index(\n",
    "                collection_name=SIM_COLLECTION,\n",
    "                field_name=field,\n",
    "                field_schema=schema,\n",
    "            )\n",
    "            print(f\"✅ Index ready on '{field}'\")\n",
    "        except qexc.UnexpectedResponse as e:\n",
    "            if \"already exists\" in str(e).lower():\n",
    "                print(f\"ℹ️ Index on '{field}' already exists\")\n",
    "            else:\n",
    "                raise\n",
    "\n",
    "# --- Miami test inputs ---\n",
    "owner_input = \"\"\"\n",
    "Bright studio in Manhattan, NY, $2,200/month.\n",
    "Near Central Park, quiet street, doorman building.\n",
    "Move-in available in September. No smoking.\n",
    "\"\"\".strip()\n",
    "\n",
    "user_input = \"\"\"\n",
    "Need a small apartment in Brooklyn with quick access to the subway.\n",
    "Max budget $2,500/month, moving in September. Prefer quiet building.\n",
    "\"\"\".strip()\n",
    "\n",
    "print(\"Inputs ready.\")\n"
   ]
  },
  {
   "cell_type": "markdown",
   "id": "ea880a4f",
   "metadata": {},
   "source": [
    "Parse & Upload (Owner + User)"
   ]
  },
  {
   "cell_type": "code",
   "execution_count": 3,
   "id": "e22b0fa0",
   "metadata": {},
   "outputs": [
    {
     "name": "stdout",
     "output_type": "stream",
     "text": [
      "➕ Uploading owner listing…\n",
      "✅ Upserted 1 points into 'owner_agent_listings' without resetting the collection.\n",
      "✅ Uploaded owner listing with ID: e1802ea7b1c4e15eb6443331e17c9087 to 'owner_agent_listings'\n",
      "✅ Uploaded profile to owner_profiles: Robert Wilson\n",
      "Owner point id: e1802ea7b1c4e15eb6443331e17c9087\n",
      "\n",
      "➕ Uploading user query…\n",
      "✅ Upserted 1 points into 'user_agent_listings' without resetting the collection.\n",
      "✅ Uploaded user query with ID: 7702862d70cc91336d157488df3f5000 to 'user_agent_listings'\n",
      "✅ Uploaded profile to user_profiles: Thomas Smith\n",
      "User point id: 7702862d70cc91336d157488df3f5000\n",
      "✅ Index ready on 'owner_id'\n",
      "✅ Index ready on 'user_id'\n"
     ]
    }
   ],
   "source": [
    "print(\"➕ Uploading owner listing…\")\n",
    "try:\n",
    "    owner_point_id = invoke_owner_parser_agent(owner_input)\n",
    "    print(\"Owner point id:\", owner_point_id)\n",
    "except Exception as e:\n",
    "    print(\"❌ Error uploading owner listing:\", e)\n",
    "    owner_point_id = None\n",
    "\n",
    "\n",
    "print(\"\\n➕ Uploading user query…\")\n",
    "try:\n",
    "    user_point_id = invoke_user_parser_agent(user_input)\n",
    "    print(\"User point id:\", user_point_id)\n",
    "except Exception as e:\n",
    "    print(\"❌ Error uploading user query:\", e)\n",
    "    user_point_id = None\n",
    "\n",
    "# Make sure similarity_collection has indexes (in case it was rebuilt)\n",
    "ensure_similarity_indexes()\n"
   ]
  },
  {
   "cell_type": "code",
   "execution_count": 4,
   "id": "0af04ad8",
   "metadata": {},
   "outputs": [
    {
     "name": "stdout",
     "output_type": "stream",
     "text": [
      "\n",
      "🔎 Owner listing (collection='owner_agent_listings', id='e1802ea7b1c4e15eb6443331e17c9087')\n",
      "  ✅ Found point:\n",
      "{\n",
      "  \"listing_id\": \"e1802ea7b1c4e15eb6443331e17c9087\",\n",
      "  \"state\": [\n",
      "    \"New York\"\n",
      "  ],\n",
      "  \"picture_url\": null,\n",
      "  \"price\": 2200,\n",
      "  \"bedrooms\": 1,\n",
      "  \"available_from\": \"September\",\n",
      "  \"soft_attributes\": \"near Central Park, quiet street, doorman building, no smoking\"\n",
      "}\n",
      "\n",
      "🔎 User listing (collection='user_agent_listings', id='7702862d70cc91336d157488df3f5000')\n",
      "  ✅ Found point:\n",
      "{\n",
      "  \"listing_id\": \"7702862d70cc91336d157488df3f5000\",\n",
      "  \"state\": [\n",
      "    \"New York\"\n",
      "  ],\n",
      "  \"picture_url\": null,\n",
      "  \"price\": 2500,\n",
      "  \"bedrooms\": null,\n",
      "  \"available_from\": \"September\",\n",
      "  \"soft_attributes\": \"quick access to subway, quiet building\",\n",
      "  \"source\": \"user_query\"\n",
      "}\n"
     ]
    }
   ],
   "source": [
    "from utils.qdrant_connection import pretty_print_listing\n",
    "pretty_print_listing(\"Owner listing\", OWNER_COLLECTION, owner_point_id)\n",
    "pretty_print_listing(\"User listing\",  USER_COLLECTION, user_point_id)"
   ]
  },
  {
   "cell_type": "markdown",
   "id": "95adc562",
   "metadata": {},
   "source": [
    "Match Both Directions & Show Details"
   ]
  },
  {
   "cell_type": "code",
   "execution_count": null,
   "id": "b6fd78a7",
   "metadata": {},
   "outputs": [
    {
     "name": "stdout",
     "output_type": "stream",
     "text": [
      "\n",
      "🔎 Matching for NEW USER → owner listings …\n",
      "🔎 Matching for NEW OWNER → user queries …\n",
      "Top 5 owners for this user:\n",
      "  score=0.6277  owner_id=25086c6a-863a-1ad7-d451-5f6adcb4a268\n",
      "    [state: New York | price: 1200 | bedrooms: 1 | available_from: None] soft: remodeled, ground-floor unit, clean, well-maintained living space, shared kitchen and bathroom, close to subway\n",
      "  score=0.6260  owner_id=099901dd-41fc-750e-d336-99fdcc8e6bfc\n",
      "    [state: New York | price: 2500 | bedrooms: 1 | available_from: None] soft: quiet space, close to subway and attractions, access to kitchen, pet-friendly, cat on premises\n",
      "  score=0.6081  owner_id=58492549-b50a-33f8-8126-b8770e436741\n",
      "    [state: New York | price: 2500 | bedrooms: 1 | available_from: None] soft: charming location at Union Square and East Village, well-maintained unit, close to subway, great shopping nearby\n",
      "  score=0.6079  owner_id=2ac09842-934c-a73a-e092-f72f4c6d8910\n",
      "    [state: New York | price: 2000 | bedrooms: 1 | available_from: None] soft: convenient location, near subway lines, 15 minutes from Midtown, includes furniture and amenities\n",
      "  score=0.6073  owner_id=6610c4d4-0ce4-9b77-1d90-afba5d46f20a\n",
      "    [state: New York | price: 2500 | bedrooms: 2 | available_from: None] soft: conveniently located near public transportation, near a mall and ferry access, quiet neighborhood atmosphere, minimalist…\n",
      "Top 1 users for this owner:\n",
      "  score=0.2739  user_id=e55b6e68-2c54-bd81-e4d6-8f494e9a944f\n",
      "    [state: New York | price: 2400 | bedrooms: 1 | available_from: September] soft: private space\n"
     ]
    },
    {
     "data": {
      "text/plain": [
       "[{'user_id': 'e55b6e68-2c54-bd81-e4d6-8f494e9a944f',\n",
       "  'owner_id': 'e1802ea7-b1c4-e15e-b644-3331e17c9087',\n",
       "  'score': 0.27391103,\n",
       "  'filter_used': {'collection': 'user_agent_listings',\n",
       "   'state': ['New York'],\n",
       "   'price_owner': 2200,\n",
       "   'bedrooms_owner': 1,\n",
       "   'available_from': 'September'},\n",
       "  'timestamp': 1755260133.7234905}]"
      ]
     },
     "execution_count": 5,
     "metadata": {},
     "output_type": "execute_result"
    }
   ],
   "source": [
    "print(\"\\n🔎 Matching for NEW USER → owner listings …\")\n",
    "user_matches = match_for_new_user(user_point_id)\n",
    "\n",
    "print(\"🔎 Matching for NEW OWNER → user queries …\")\n",
    "owner_matches = match_for_new_owner(owner_point_id)\n",
    "\n",
    "from utils.qdrant_connection import print_owner_matches_with_details, print_user_matches_with_details\n",
    "\n",
    "print_user_matches_with_details(user_matches, top_k=5)\n",
    "print_owner_matches_with_details(owner_matches, top_k=5)\n"
   ]
  },
  {
   "cell_type": "markdown",
   "id": "30c80647",
   "metadata": {},
   "source": [
    "Profiles (Owner & User)"
   ]
  },
  {
   "cell_type": "code",
   "execution_count": 6,
   "id": "bf30f663",
   "metadata": {},
   "outputs": [
    {
     "name": "stdout",
     "output_type": "stream",
     "text": [
      "Owner profile: {'profile_id': 'e1802ea7b1c4e15eb6443331e17c9087', 'type': 'owner', 'full_name': 'Robert Wilson', 'email': 'user5@example.com', 'phone': '+1-555-2310', 'application_date': '2025-08-11', 'number_of_shows': '0'}\n",
      "User profile: {'profile_id': '7702862d70cc91336d157488df3f5000', 'type': 'user', 'full_name': 'Thomas Smith', 'email': 'user2@example.com', 'phone': '+1-555-9937', 'application_date': '2025-07-16', 'number_of_shows': '0'}\n"
     ]
    }
   ],
   "source": [
    "from utils.qdrant_connection import get_user_profile, get_owner_profile\n",
    "\n",
    "owner_profile = get_owner_profile(owner_point_id)  # dict or None\n",
    "user_profile  = get_user_profile(user_point_id)    # dict or None\n",
    "\n",
    "print(\"Owner profile:\", owner_profile)\n",
    "print(\"User profile:\", user_profile)\n"
   ]
  },
  {
   "cell_type": "markdown",
   "id": "6b90a942",
   "metadata": {},
   "source": [
    "Quick Estimated Summaries"
   ]
  },
  {
   "cell_type": "code",
   "execution_count": 7,
   "id": "8c91c3a8",
   "metadata": {},
   "outputs": [
    {
     "name": "stdout",
     "output_type": "stream",
     "text": [
      "\n",
      "=== Estimated summary for USER ===\n",
      "=== Estimated opportunities for you ===\n",
      "- You appear as the #1 candidate in ~22 listing(s).\n",
      "- You appear in the top 5 for ~42 listing(s).\n",
      "- You have a strong ‘hard-attribute’ fit with ~15 listing(s).\n",
      "- Total listings evaluated in this preview: 50\n",
      "- Your current best score: 0.6277 (owner_id=25086c6a-863a-1ad7-d451-5f6adcb4a268)\n",
      "\n",
      "Note: These are early estimates based on current matches.\n",
      "Final invitations depend on scheduling, fairness (giving chances to those with fewer shows),\n",
      "and listing popularity. You may not be invited to all matched properties.\n",
      "\n",
      "\n",
      "=== Estimated summary for OWNER ===\n",
      "=== Estimated demand for your listing ===\n",
      "- Your listing appears as the #1 match for ~0 user(s).\n",
      "- Your listing appears in the top 5 for ~0 user(s).\n",
      "- There are ~1 user(s) whose requirements strongly fit your listing.\n",
      "- Total users evaluated in this preview: 1\n",
      "- Best current candidate score: 0.2739 (user_id=e55b6e68-2c54-bd81-e4d6-8f494e9a944f)\n",
      "\n",
      "Note: These are early estimates to help you gauge interest.\n",
      "Actual showings are scheduled by our agent considering fairness, user availability,\n",
      "and platform-wide demand management.\n",
      "\n"
     ]
    }
   ],
   "source": [
    "from agents.matching_agent import summarize_estimated_for_user, summarize_estimated_for_owner\n",
    "\n",
    "print(\"\\n=== Estimated summary for USER ===\")\n",
    "summarize_estimated_for_user(user_point_id, user_matches, check_top_k=5)\n",
    "\n",
    "print(\"\\n=== Estimated summary for OWNER ===\")\n",
    "summarize_estimated_for_owner(owner_point_id, owner_matches, check_top_k=5)\n"
   ]
  },
  {
   "cell_type": "markdown",
   "id": "c3261f7f",
   "metadata": {},
   "source": [
    "Trigger LLM Showing Decisions (saves CSV)"
   ]
  },
  {
   "cell_type": "code",
   "execution_count": 1,
   "id": "b7da1568",
   "metadata": {},
   "outputs": [
    {
     "data": {
      "application/vnd.jupyter.widget-view+json": {
       "model_id": "b07e961019ff492286ce254bf4db59ad",
       "version_major": 2,
       "version_minor": 0
      },
      "text/plain": [
       "ManageShowings:   0%|          | 0/3 [00:00<?, ?owner/s]"
      ]
     },
     "metadata": {},
     "output_type": "display_data"
    },
    {
     "name": "stdout",
     "output_type": "stream",
     "text": [
      "✅ Done. 2 owners processed (all show == 1). CSV → logs/showings_decisions_20250816-113108.csv\n",
      "there will be 2 shows that we will schedule for you :\n",
      "\n",
      "show 1 :\n",
      "owner: Olivia Miller, +1-555-2859 , user7@example.com, Chicago, 1 bed rooms , 2100 dollars, have been shown 0 times. have been applicant to the system at 2025-07-15..\n",
      "an invitaion mail will be sent to you, the owner and the 4 matched users.\n",
      "\n",
      "show 2 :\n",
      "owner: David Thomas, +1-555-8036 , user6@example.com, Miami, 1 bed rooms , 2100 dollars, have been shown 0 times. have been applicant to the system at 2025-07-19..\n",
      "an invitaion mail will be sent to you, the owner and the 4 matched users.\n",
      "\n"
     ]
    }
   ],
   "source": [
    "from utils.qdrant_connection import summarize_shows_text\n",
    "from agents.manage_showings_agent import run_daily_decisions\n",
    "\n",
    "filtered_results, csv_path = run_daily_decisions(max_invites=3)\n",
    "summary_text = summarize_shows_text(filtered_results)\n",
    "print(summary_text)\n",
    "# In Streamlit:\n",
    "# st.code(summary_text)\n",
    "\n"
   ]
  },
  {
   "cell_type": "markdown",
   "id": "496fece4",
   "metadata": {},
   "source": [
    " Apply Decisions to Dataset (Dry Run first)"
   ]
  },
  {
   "cell_type": "code",
   "execution_count": 9,
   "id": "5c2a9fb8",
   "metadata": {},
   "outputs": [
    {
     "data": {
      "application/vnd.jupyter.widget-view+json": {
       "model_id": "fe12f54fbb79481d81f53c075936ed6e",
       "version_major": 2,
       "version_minor": 0
      },
      "text/plain": [
       "Applying showing decisions:   0%|          | 0/20 [00:00<?, ?owner/s]"
      ]
     },
     "metadata": {},
     "output_type": "display_data"
    },
    {
     "name": "stdout",
     "output_type": "stream",
     "text": [
      "\n",
      "=== organize_dataset_after_showings summary ===\n",
      "owners_processed:   20\n",
      "owners_with_show:   16\n",
      "owners_incremented: 16\n",
      "users_incremented:  66\n",
      "pairs_deleted:      66\n",
      "{'owners_processed': 20, 'owners_with_show': 16, 'owners_incremented': 16, 'users_incremented': 66, 'pairs_deleted': 66, 'updated_owner_ids': ['f4e5df6b-fcf6-565a-853c-52b526e5218f', '95eb7b7d-310c-eb7d-e7eb-7decad6bd592', 'dfa26407-aa3f-d174-c22d-5ce8740fdee5', '295861f9-fe39-648b-46ee-c4c6d849b5c1', '443105c9-5329-eb90-4d8d-228353664992', '96bf7189-814a-f0cb-3f2d-989cee5918d1', '4d73959b-1743-d711-7e3b-918a60418470', '45fe06ed-634e-2da4-1d22-e3e4656e8081', 'fab31824-dcfa-58b7-4aec-19a962769d7f', '3fc907a5-71f1-122d-ec75-4f2a498f8f2b', 'a4fa2c7a-f461-7b5c-a0e6-55fe808b3b9a', '78f09d28-3eb5-f4d1-6a34-0878f43ca5ec', '4327616b-892e-be79-2f7a-7aca9ffe49db', '7c51a0b3-8b62-8fc9-d83b-50b2ea756e0d', '642f2b8f-0f92-7912-3c60-c09ec79b2c58', '297b261f-caca-3a4d-1b0c-d74b9e49e05c'], 'updated_user_ids': ['e8e54f69-7174-bc00-111b-b84460b81650', '815f887a-8fc1-7bf2-ae3a-d761df5580d8', 'e9d71d4d-4eec-9189-6d98-6c544fa5f253', '8eecc892-34a8-7ebe-9600-70f922477b0c', '709bf8fe-32ab-82fd-4830-9dd7ec8ec6f6', 'e159a106-7c81-8e55-7125-4b48c4aba5d9', 'ac8f1bdb-05fa-06a1-e593-40863cdb80d1', '97a556ee-11ca-79f7-8ae3-966b0b88fcaf', '2910eefb-a16d-e347-54d2-695b69943409', '9d6bd8d6-a7a7-de13-e83b-9a3eb60647e9', '026b0e62-46cd-0bd9-00f1-9ecf400f1902', '287d155c-66bb-e4f9-5e90-3cca55623a6d', '61d5af8b-07ac-4497-ad82-57fccbab7243', '9f467798-22ef-3d0a-1592-341aa5d111db', '56fd8f05-900a-7d87-cf85-ee928d83adc6', '35c1aed1-3b6e-0229-2ebb-3ca25ef0ad81', 'a0415e16-fa06-2665-0800-c80cc5adff23', '8856f068-8632-dfc8-b845-9538917cb1d3', '3e0dd798-c605-c53f-1eb8-1286804142a1', '20e46ffb-9c12-d899-e6ba-6e30234e802b', '061a4fdd-c287-ea50-282b-3fb79fbfd1f3', '429564ff-32a0-3608-b48d-49cb3b9f5c15', '4610e882-be07-6b7a-f543-be7dcb0afe00', '78f584d4-ff3e-4e4a-8d7b-03f98c5b89fe', 'd4f83b87-6379-66f8-0414-555980d170e7', '35c1aed1-3b6e-0229-2ebb-3ca25ef0ad81', 'c7d79784-adba-90ac-1386-10466cea2055', 'f6c92c9f-7eba-3d89-17b8-cfa6a4badce0', 'ea27baf0-d0da-488c-ca57-b57b5024e57f', 'c90708e4-5389-cbdf-d3e5-ffeb5de84227', '3b11f2f0-f900-f1c7-6ec1-20a3aaf7f146', 'c9c30beb-0d66-44dd-fa83-3d152f3fd57f', '10d0c620-8c9f-a801-10c0-86f60697162f', 'd33c0239-b840-05b3-4f3a-43d218b7f570', '1d0bb22d-829b-2939-29e6-839e32000275', 'e6796afe-d255-afd9-4b69-cf917fd3850f', '9c4b6057-3fee-4bae-9bb4-235c0d9913a3', '2e53cbbc-b19a-8829-d100-4552a505e370', '988a6799-68ef-0fac-3efd-93dcf18f054c', 'ed5f05da-52fe-244d-969c-63292f5d6d2b', '8aa8a412-a367-3b3b-c2dd-de82f21d3c61', 'd94c43be-9aed-ff45-440a-cee116bf3110', '3870256d-3b13-2e6e-9aea-441ba77eb751', 'ac8f1bdb-05fa-06a1-e593-40863cdb80d1', '08947886-b876-4038-f69c-75e13d27ed0a', 'c96520aa-319d-fb6e-112f-b31febc9c7a5', '99fef2e9-c7e4-f816-51af-9e98b5485c72', 'f2ba9d15-da90-6db3-3d85-141790b6e511', '4f0969f2-86c5-b4e1-10c3-7560db93f024', '04315916-c790-51ad-2d6e-20a4a380a2d7', '89af9afc-85c4-05ea-4f55-8e9fa50ad88a', 'ab7179fd-c38f-05fa-ba67-7dff2b8ee2a3', 'c578f65a-2672-77a1-e75b-8e80c7fbe412', 'e79c66cc-95e1-0027-9b3e-bf3445edbad4', '18e6ac19-db8a-ddfe-3886-fd855657f3bc', 'b862d2d0-73b8-1f25-e45d-96557f9cd8bf', 'f13bf0a4-bb93-ab3b-d350-198e9d0e5ed3', '67bc54d5-321e-322d-5a8f-6142427bab54', 'e159a106-7c81-8e55-7125-4b48c4aba5d9', 'cc1a83e4-d76e-3e24-369d-a93dabab52e9', '8aa8a412-a367-3b3b-c2dd-de82f21d3c61', 'ed5f05da-52fe-244d-969c-63292f5d6d2b', 'ddddddfe-1237-1d69-2c42-8565588c13cc', 'e4070f55-2f88-facc-64f9-0852e99e060f', 'e159a106-7c81-8e55-7125-4b48c4aba5d9', '8450108f-f687-0b2e-4595-bcec946c119f'], 'deleted_pair_ids': ['b08906bd-b0c7-28dc-a41e-fd3643fe9bee', 'edeb9596-acc0-7282-1db6-f99fb63cab16', '3cd00242-da50-ca06-86b0-c750dd25b17e', '70137e27-a6d2-f0f4-9368-6f6f3747f6c5', '12ac51a6-ae69-313a-63e9-cae089ba77da', '060b68a2-9c2f-1091-0f58-11fced82275b', '9f632879-c590-2bab-b558-f41ccd733ba7', '05917fbe-5af2-f054-afa7-5dfe569fa933', '59ab0e3c-4364-eb7b-73c9-1b36056558ab', '2f99a32e-e2a1-6ae9-145a-8613c285eb81', 'd96df4ae-ca52-7c8e-5733-d915e156a260', '598f71a9-e565-112c-fd06-b295e48b2df3', '6a8f4c6a-2eee-c3ec-5457-0b050f110c19', '514ecad5-c32e-0a25-11b6-764c76d22e4d', '88163d77-410e-6fd5-f03a-907246ec910d', '9d6986c7-5dcd-8481-06bf-6f2116ed23fa', '67cd8d4d-cac6-2453-728d-9d2f67594b16', 'f027a8b4-7d09-65b0-d73e-2f6ebec0fb7a', 'ad282294-d56f-52e1-bf13-e2345ca496c1', '67327cf3-e8f5-d7e9-9015-429dd45ee02b', 'c1d022e8-57ef-835a-072d-b9e821238f6e', '60f42734-961f-fe76-4bed-be3301e4e412', 'f1240d8c-adb4-5b94-6b73-37405f58041b', '69b9bffe-32dc-d174-b35b-aec2624692e3', 'fe33b5a1-0237-edbf-6b3d-642164dcd175', 'bf117005-ad26-93d1-372d-69f25fec528a', 'b8f2306e-33a7-1250-be2b-8ea2ef10317a', '113b4689-af31-509a-9629-f99525aa1904', '4abf75d0-d34a-21d3-5e77-2cb953837dab', '77f5d723-eeb3-d7fb-66ca-80fdeb2082a9', '779867a2-dc7e-6a5f-a079-e0de0b6a58cb', 'fb35f4e3-5674-547b-ee20-3e93bdf0a1d4', '2bf36979-7cd0-bf87-78e4-b92dee8c013a', '0c45eb47-f316-05ab-e64f-063e1265396c', '3bb11079-59df-183a-4c9c-ff013cfaf925', '110374f0-b263-7001-f1ab-d2a4c35e7223', 'ac76f7e0-bc38-e411-1e71-12690c34e815', '794df8c6-c925-8b80-fdcf-f9418ccffa95', '0c74c62b-6e1a-a608-337d-80e45837d54c', '388b7596-1299-01f8-5b49-635b2508802d', '5a4d57cc-7d0c-4894-43e5-7406af9b7664', 'c3d70671-42a4-ace0-510d-4b67b334a854', 'f90920d4-d518-9a70-3e1d-f5a609ba8c88', '70294f73-701c-4213-0d74-6955cfc27a36', '76679721-cde8-d84d-653f-d51f54cf5f2d', '735fa715-6e52-8fb5-689c-23904828b2d0', '5a546c8b-d1a8-d2ca-708b-a29526aaa2ef', 'c92154fc-f7ef-219c-9988-6814d568e839', 'd664461a-b086-2306-7043-c6f33ff84dc6', 'ce59a468-ec58-064b-103a-afcc1ebaf85a', '1110e3d8-9ba1-553a-d288-ea17fdb6e86e', '5ae7794b-b922-0a7f-8e4c-fa055619418f', 'e27257dd-f556-d5c9-2197-0008ba1fe1c0', '6ff5d377-06f3-7488-4226-a134d00bc651', '3158ff2c-9ada-3dc6-58f7-f4f44fa32e19', '1ce6e156-1020-62b2-86b2-3d6b9a028a8f', '12b45ae8-f28e-855f-c579-56f5a027b011', 'b7b7a9c4-4102-9da4-3d75-51655ec886d7', '81e4ee40-bf90-4faa-0610-a5786bc8cb53', '25532df7-ea05-d9df-a050-a1c60466209e', '07d053e0-1df2-57fb-e663-4fca860c9bd2', '46f8d8e5-6642-af5c-5c0e-2cec76d04b4f', '71b36cfb-cb31-f203-15a8-3e9284a965b5', 'ad52b305-6684-27f1-ff68-900df3acbe71', '77474620-ab8e-2c61-f010-c36da1aa6298', '87949e6d-d464-4b39-3d07-4adbbf1fc85c'], 'dry_run': False}\n"
     ]
    }
   ],
   "source": [
    "# If you already added organize_dataset_after_showings to utils, import it.\n",
    "# Otherwise, define it earlier or copy in the implementation we discussed.\n",
    "try:\n",
    "    from utils.qdrant_connection import organize_dataset_after_showings\n",
    "except ImportError:\n",
    "    raise RuntimeError(\"organize_dataset_after_showings not found. Make sure it's available in utils.qdrant_connection\")\n",
    "\n",
    "# Dry run (no writes) to preview effects\n",
    "summary_preview = organize_dataset_after_showings(results, top_k_for_recovery=10, dry_run=False)\n",
    "print(summary_preview)\n",
    "\n",
    "# If everything looks good, actually apply:\n",
    "# summary_applied = organize_dataset_after_showings(results, top_k_for_recovery=10, dry_run=False)\n",
    "# print(summary_applied)\n"
   ]
  },
  {
   "cell_type": "code",
   "execution_count": null,
   "id": "dd2222d3",
   "metadata": {},
   "outputs": [],
   "source": [
    "from utils.reset_system import reset_system\n",
    "# reset_system()"
   ]
  },
  {
   "cell_type": "code",
   "execution_count": null,
   "id": "f363b8d1",
   "metadata": {},
   "outputs": [],
   "source": [
    "from qdrant_client import QdrantClient\n",
    "from utils.qdrant_connection import client ,OWNER_PROFILES_COLLECTION\n",
    "\n",
    "\n",
    "# Fetch all owner profiles (adjust limit if needed)\n",
    "all_owners = client.scroll(\n",
    "    collection_name=OWNER_PROFILES_COLLECTION,\n",
    "    with_payload=True,\n",
    "    limit=10000  # increase if you have more than 10k\n",
    ")\n",
    "\n",
    "updated_count = 0\n",
    "\n",
    "for rec in all_owners[0]:  # scroll returns (records, next_page_offset)\n",
    "    oid = str(rec.id)\n",
    "    payload = rec.payload or {}\n",
    "    email = payload.get(\"email\")\n",
    "\n",
    "    if isinstance(email, str) and \"user\" in email:\n",
    "        new_email = email.replace(\"user\", \"owner\")\n",
    "        client.set_payload(\n",
    "            collection_name=OWNER_PROFILES_COLLECTION,\n",
    "            payload={\"email\": new_email},\n",
    "            points=[oid],\n",
    "        )\n",
    "        updated_count += 1\n",
    "\n",
    "print(f\"✅ Updated {updated_count} owner emails\")\n"
   ]
  }
 ],
 "metadata": {
  "kernelspec": {
   "display_name": "Python 3",
   "language": "python",
   "name": "python3"
  },
  "language_info": {
   "codemirror_mode": {
    "name": "ipython",
    "version": 3
   },
   "file_extension": ".py",
   "mimetype": "text/x-python",
   "name": "python",
   "nbconvert_exporter": "python",
   "pygments_lexer": "ipython3",
   "version": "3.11.9"
  }
 },
 "nbformat": 4,
 "nbformat_minor": 5
}
