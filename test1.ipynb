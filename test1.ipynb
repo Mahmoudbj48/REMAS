{
 "cells": [
  {
   "cell_type": "markdown",
   "id": "0164daaa",
   "metadata": {},
   "source": [
    "Cell 1 — Setup & Inputs (Miami)"
   ]
  },
  {
   "cell_type": "code",
   "execution_count": 1,
   "id": "dc1400fa",
   "metadata": {},
   "outputs": [
    {
     "name": "stdout",
     "output_type": "stream",
     "text": [
      "Inputs ready.\n"
     ]
    }
   ],
   "source": [
    "# --- Setup imports & helpers ---\n",
    "from agents.owner_parser_agent import invoke_owner_parser_agent\n",
    "from agents.user_parser_agent import invoke_user_parser_agent\n",
    "from agents.matching_agent import match_for_new_user, match_for_new_owner\n",
    "from utils.qdrant_connection import client\n",
    "from qdrant_client.models import PayloadSchemaType\n",
    "from qdrant_client.http import exceptions as qexc\n",
    "\n",
    "SIM_COLLECTION = \"similarity_collection\"\n",
    "\n",
    "def ensure_similarity_indexes():\n",
    "    \"\"\"Ensure similarity_collection has the payload indexes needed for filtering.\"\"\"\n",
    "    for field, schema in [\n",
    "        (\"owner_id\", PayloadSchemaType.KEYWORD),\n",
    "        (\"user_id\",  PayloadSchemaType.KEYWORD),\n",
    "    ]:\n",
    "        try:\n",
    "            client.create_payload_index(\n",
    "                collection_name=SIM_COLLECTION,\n",
    "                field_name=field,\n",
    "                field_schema=schema,\n",
    "            )\n",
    "            print(f\"✅ Index ready on '{field}'\")\n",
    "        except qexc.UnexpectedResponse as e:\n",
    "            if \"already exists\" in str(e).lower():\n",
    "                print(f\"ℹ️ Index on '{field}' already exists\")\n",
    "            else:\n",
    "                raise\n",
    "\n",
    "# --- Miami test inputs ---\n",
    "owner_input = \"\"\"\n",
    "Bright 3-bedroom apartment in Miami Beach, FL, 8 minutes’ walk to the ocean.\n",
    "Modern building with pool & gym, secure entry, and on-site laundry.\n",
    "$2,100 per month, available in September. Great for remote work; quiet street near cafes.\n",
    "Picture: https://example.com/miami/apt1.jpg\n",
    "\"\"\".strip()\n",
    "\n",
    "user_input = \"\"\"\n",
    "Looking for a 3-bedroom in Miami or Miami Beach, ideally near the water and cafes.\n",
    "Budget up to $2,400/month. Prefer building amenities (pool/gym), quiet for remote work.\n",
    "Move-in around September.\n",
    "\"\"\".strip()\n",
    "\n",
    "print(\"Inputs ready.\")\n"
   ]
  },
  {
   "cell_type": "markdown",
   "id": "ea880a4f",
   "metadata": {},
   "source": [
    "Parse & Upload (Owner + User)"
   ]
  },
  {
   "cell_type": "code",
   "execution_count": 2,
   "id": "e22b0fa0",
   "metadata": {},
   "outputs": [
    {
     "name": "stdout",
     "output_type": "stream",
     "text": [
      "➕ Uploading owner listing…\n",
      "✅ Upserted 1 points into 'owner_agent_listings' without resetting the collection.\n",
      "✅ Uploaded owner listing with ID: b8492286d1946c8ded7b961b32bd1bb5 to 'owner_agent_listings'\n",
      "✅ Uploaded profile to owner_profiles: Matthew Jackson\n",
      "Owner point id: b8492286d1946c8ded7b961b32bd1bb5\n",
      "\n",
      "➕ Uploading user query…\n",
      "✅ Upserted 1 points into 'user_agent_listings' without resetting the collection.\n",
      "✅ Uploaded user query with ID: d09dd8a3b791e3ba85c0730f6ba746d9 to 'user_agent_listings'\n",
      "✅ Uploaded profile to user_profiles: Alice Jackson\n",
      "User point id: d09dd8a3b791e3ba85c0730f6ba746d9\n",
      "✅ Index ready on 'owner_id'\n",
      "✅ Index ready on 'user_id'\n"
     ]
    }
   ],
   "source": [
    "print(\"➕ Uploading owner listing…\")\n",
    "owner_point_id = invoke_owner_parser_agent(owner_input)\n",
    "print(\"Owner point id:\", owner_point_id)\n",
    "\n",
    "print(\"\\n➕ Uploading user query…\")\n",
    "user_point_id = invoke_user_parser_agent(user_input)\n",
    "print(\"User point id:\", user_point_id)\n",
    "\n",
    "# Make sure similarity_collection has indexes (in case it was rebuilt)\n",
    "ensure_similarity_indexes()\n"
   ]
  },
  {
   "cell_type": "markdown",
   "id": "95adc562",
   "metadata": {},
   "source": [
    "Match Both Directions & Show Details"
   ]
  },
  {
   "cell_type": "code",
   "execution_count": 3,
   "id": "b6fd78a7",
   "metadata": {},
   "outputs": [
    {
     "name": "stdout",
     "output_type": "stream",
     "text": [
      "\n",
      "🔎 Matching for NEW USER → owner listings …\n",
      "🔎 Matching for NEW OWNER → user queries …\n",
      "Top 5 owners for this user:\n",
      "  score=0.6890  owner_id=b8492286-d194-6c8d-ed7b-961b32bd1bb5\n",
      "    [state: Miami Beach, Florida | price: 2100 | bedrooms: 3 | available_from: September] soft: bright apartment, modern building with pool and gym, secure entry, on-site laundry, great for remote work, quiet street …\n",
      "  score=0.4685  owner_id=b16e74a7-b701-38bb-515c-a070003b8924\n",
      "    [state: Miami | price: 2400 | bedrooms: 3 | available_from: July] soft: centrally located, excellent amenities, welcoming community\n",
      "  score=0.4413  owner_id=7500cc5a-558d-c61a-cb54-8317909269ca\n",
      "    [state: Miami | price: 2400 | bedrooms: 3 | available_from: March] soft: spacious loft, converted textile factory, high ceilings, concrete floors, minimal noise, access to furnished rooftop, cl…\n",
      "  score=0.4213  owner_id=5b6a36c9-4fd7-89dd-5771-65488e5afad8\n",
      "    [state: Miami | price: 1600 | bedrooms: 3 | available_from: June] soft: located in the heart of Midtown, access to shared amenities including rooftops and gym, stunning views of Empire State B…\n",
      "  score=0.3935  owner_id=aa15ef98-d354-90df-63e0-44b35933bd5f\n",
      "    [state: Miami | price: 1200 | bedrooms: 3 | available_from: November] soft: walking distance to major attractions, vibrant neighborhood, close to top restaurants, ideal for families or groups\n",
      "Top 2 users for this owner:\n",
      "  score=0.6890  user_id=67bc54d5-321e-322d-5a8f-6142427bab54\n",
      "    [state: Miami, Miami Beach | price: 2500 | bedrooms: 1 | available_from: September] soft: near the water, near cafes, building amenities like pool or gym, quiet for remote work\n",
      "  score=0.6890  user_id=d09dd8a3-b791-e3ba-85c0-730f6ba746d9\n",
      "    [state: Miami, Miami Beach | price: 2400 | bedrooms: 3 | available_from: September] soft: near the water, near cafes, building amenities like pool or gym, quiet for remote work\n"
     ]
    },
    {
     "data": {
      "text/plain": [
       "[{'user_id': '67bc54d5-321e-322d-5a8f-6142427bab54',\n",
       "  'owner_id': 'b8492286-d194-6c8d-ed7b-961b32bd1bb5',\n",
       "  'score': 0.6889799,\n",
       "  'filter_used': {'collection': 'user_agent_listings',\n",
       "   'state': ['Miami Beach', 'Florida'],\n",
       "   'price_owner': 2100,\n",
       "   'bedrooms_owner': 3,\n",
       "   'available_from': 'September'},\n",
       "  'timestamp': 1755192238.7120147},\n",
       " {'user_id': 'd09dd8a3-b791-e3ba-85c0-730f6ba746d9',\n",
       "  'owner_id': 'b8492286-d194-6c8d-ed7b-961b32bd1bb5',\n",
       "  'score': 0.6889799,\n",
       "  'filter_used': {'collection': 'user_agent_listings',\n",
       "   'state': ['Miami Beach', 'Florida'],\n",
       "   'price_owner': 2100,\n",
       "   'bedrooms_owner': 3,\n",
       "   'available_from': 'September'},\n",
       "  'timestamp': 1755192238.7120147}]"
      ]
     },
     "execution_count": 3,
     "metadata": {},
     "output_type": "execute_result"
    }
   ],
   "source": [
    "print(\"\\n🔎 Matching for NEW USER → owner listings …\")\n",
    "user_matches = match_for_new_user(user_point_id)\n",
    "\n",
    "print(\"🔎 Matching for NEW OWNER → user queries …\")\n",
    "owner_matches = match_for_new_owner(owner_point_id)\n",
    "\n",
    "from utils.qdrant_connection import print_owner_matches_with_details, print_user_matches_with_details\n",
    "\n",
    "print_user_matches_with_details(user_matches, top_k=5)\n",
    "print_owner_matches_with_details(owner_matches, top_k=5)\n"
   ]
  },
  {
   "cell_type": "markdown",
   "id": "30c80647",
   "metadata": {},
   "source": [
    "Profiles (Owner & User)"
   ]
  },
  {
   "cell_type": "code",
   "execution_count": 4,
   "id": "bf30f663",
   "metadata": {},
   "outputs": [
    {
     "name": "stdout",
     "output_type": "stream",
     "text": [
      "Owner profile: {'profile_id': 'b8492286d1946c8ded7b961b32bd1bb5', 'type': 'owner', 'full_name': 'Matthew Jackson', 'email': 'mahmoudbj48@gmail.com', 'phone': '+1-555-3086', 'application_date': '2025-07-19', 'number_of_shows': '0'}\n",
      "User profile: {'profile_id': 'd09dd8a3b791e3ba85c0730f6ba746d9', 'type': 'user', 'full_name': 'Alice Jackson', 'email': 'user6@example.com', 'phone': '+1-555-2538', 'application_date': '2025-07-10', 'number_of_shows': '0'}\n"
     ]
    }
   ],
   "source": [
    "from utils.qdrant_connection import get_user_profile, get_owner_profile\n",
    "\n",
    "owner_profile = get_owner_profile(owner_point_id)  # dict or None\n",
    "user_profile  = get_user_profile(user_point_id)    # dict or None\n",
    "\n",
    "print(\"Owner profile:\", owner_profile)\n",
    "print(\"User profile:\", user_profile)\n"
   ]
  },
  {
   "cell_type": "markdown",
   "id": "6b90a942",
   "metadata": {},
   "source": [
    "Quick Estimated Summaries"
   ]
  },
  {
   "cell_type": "code",
   "execution_count": 5,
   "id": "8c91c3a8",
   "metadata": {},
   "outputs": [
    {
     "name": "stdout",
     "output_type": "stream",
     "text": [
      "\n",
      "=== Estimated summary for USER ===\n",
      "=== Estimated opportunities for you ===\n",
      "- You appear as the #1 candidate in ~1 listing(s).\n",
      "- You appear in the top 5 for ~6 listing(s).\n",
      "- You have a strong ‘hard-attribute’ fit with ~2 listing(s).\n",
      "- Total listings evaluated in this preview: 8\n",
      "- Your current best score: 0.6890 (owner_id=b8492286-d194-6c8d-ed7b-961b32bd1bb5)\n",
      "\n",
      "Note: These are early estimates based on current matches.\n",
      "Final invitations depend on scheduling, fairness (giving chances to those with fewer shows),\n",
      "and listing popularity. You may not be invited to all matched properties.\n",
      "\n",
      "\n",
      "=== Estimated summary for OWNER ===\n",
      "=== Estimated demand for your listing ===\n",
      "- Your listing appears as the #1 match for ~1 user(s).\n",
      "- Your listing appears in the top 5 for ~2 user(s).\n",
      "- There are ~2 user(s) whose requirements strongly fit your listing.\n",
      "- Total users evaluated in this preview: 2\n",
      "- Best current candidate score: 0.6890 (user_id=67bc54d5-321e-322d-5a8f-6142427bab54)\n",
      "\n",
      "Note: These are early estimates to help you gauge interest.\n",
      "Actual showings are scheduled by our agent considering fairness, user availability,\n",
      "and platform-wide demand management.\n",
      "\n"
     ]
    }
   ],
   "source": [
    "from agents.matching_agent import summarize_estimated_for_user, summarize_estimated_for_owner\n",
    "\n",
    "print(\"\\n=== Estimated summary for USER ===\")\n",
    "summarize_estimated_for_user(user_point_id, user_matches, check_top_k=5)\n",
    "\n",
    "print(\"\\n=== Estimated summary for OWNER ===\")\n",
    "summarize_estimated_for_owner(owner_point_id, owner_matches, check_top_k=5)\n"
   ]
  },
  {
   "cell_type": "markdown",
   "id": "c3261f7f",
   "metadata": {},
   "source": [
    "Trigger LLM Showing Decisions (saves CSV)"
   ]
  },
  {
   "cell_type": "code",
   "execution_count": 1,
   "id": "b7da1568",
   "metadata": {},
   "outputs": [
    {
     "data": {
      "application/vnd.jupyter.widget-view+json": {
       "model_id": "8d92d8c7ac4f4d11ba2dcbcb4104cf36",
       "version_major": 2,
       "version_minor": 0
      },
      "text/plain": [
       "ManageShowings:   0%|          | 0/2 [00:00<?, ?owner/s]"
      ]
     },
     "metadata": {},
     "output_type": "display_data"
    },
    {
     "name": "stdout",
     "output_type": "stream",
     "text": [
      "✅ Done. 2 owners processed. CSV → logs/showings_decisions_20250814-204510.csv\n",
      "\n",
      "Sample results preview:\n",
      "- owner_id=875f8fb1-faab-1f77-f5f0-a17bdf13c9ce considered=1 mean_top5=0.6301 decision={'show': '0', 'num': '0'}\n",
      "- owner_id=a72993d7-c1ad-3821-3880-682f205e16f5 considered=10 mean_top5=0.6595 decision={'show': '1', 'num': '5'}\n"
     ]
    }
   ],
   "source": [
    "import os, csv\n",
    "from datetime import datetime\n",
    "from agents.manage_showings_agent import daily_llm_showing_decisions\n",
    "\n",
    "def run_daily_decisions():\n",
    "    results = daily_llm_showing_decisions(top_k=10, show_progress=True)\n",
    "\n",
    "    # Keep CSV tidy: only write selected columns\n",
    "    fieldnames = [\n",
    "        \"owner_id\", \"show\", \"num\", \"considered\", \"mean_top5\",\n",
    "        \"sample\", \"owner_application_date\", \"owner_number_of_shows\",\n",
    "        \"error_type\", \"error\"\n",
    "    ]\n",
    "    out_path = f\"logs/showings_decisions_{datetime.now().strftime('%Y%m%d-%H%M%S')}.csv\"\n",
    "    os.makedirs(os.path.dirname(out_path), exist_ok=True)\n",
    "\n",
    "    with open(out_path, \"w\", newline=\"\", encoding=\"utf-8\") as f:\n",
    "        w = csv.DictWriter(f, fieldnames=fieldnames)\n",
    "        w.writeheader()\n",
    "        for r in results:\n",
    "            if \"error\" in r:\n",
    "                w.writerow({\n",
    "                    \"owner_id\": r.get(\"owner_id\"),\n",
    "                    \"error_type\": r.get(\"error_type\"),\n",
    "                    \"error\": r.get(\"error\"),\n",
    "                })\n",
    "                continue\n",
    "\n",
    "            dec = r.get(\"decision\", {}) or {}\n",
    "            own = r.get(\"owner_profile\", {}) or {}\n",
    "            w.writerow({\n",
    "                \"owner_id\": r.get(\"owner_id\"),\n",
    "                \"show\": dec.get(\"show\"),\n",
    "                \"num\": dec.get(\"num\"),\n",
    "                \"considered\": r.get(\"considered\"),\n",
    "                \"mean_top5\": r.get(\"mean_top5\"),\n",
    "                \"sample\": r.get(\"sample\"),\n",
    "                \"owner_application_date\": own.get(\"application_date\"),\n",
    "                \"owner_number_of_shows\": own.get(\"number_of_shows\"),\n",
    "            })\n",
    "\n",
    "    print(f\"✅ Done. {len(results)} owners processed. CSV → {out_path}\")\n",
    "    return results, out_path\n",
    "\n",
    "results, decisions_csv = run_daily_decisions()\n",
    "\n",
    "# Peek a few rows from results\n",
    "print(\"\\nSample results preview:\")\n",
    "for r in results[:5]:\n",
    "    if \"error\" in r:\n",
    "        print(f\"- owner_id={r.get('owner_id')} ERROR: {r.get('error_type')} {r.get('error')}\")\n",
    "    else:\n",
    "        dec = r.get(\"decision\", {})\n",
    "        print(f\"- owner_id={r.get('owner_id')} considered={r.get('considered')} mean_top5={r.get('mean_top5')} decision={dec}\")\n"
   ]
  },
  {
   "cell_type": "markdown",
   "id": "496fece4",
   "metadata": {},
   "source": [
    " Apply Decisions to Dataset (Dry Run first)"
   ]
  },
  {
   "cell_type": "code",
   "execution_count": 2,
   "id": "5c2a9fb8",
   "metadata": {},
   "outputs": [
    {
     "data": {
      "application/vnd.jupyter.widget-view+json": {
       "model_id": "240d7e5247ad4c7e879a7ffe355b1be9",
       "version_major": 2,
       "version_minor": 0
      },
      "text/plain": [
       "Applying showing decisions:   0%|          | 0/2 [00:00<?, ?owner/s]"
      ]
     },
     "metadata": {},
     "output_type": "display_data"
    },
    {
     "name": "stdout",
     "output_type": "stream",
     "text": [
      "\n",
      "=== organize_dataset_after_showings summary ===\n",
      "owners_processed:   2\n",
      "owners_with_show:   1\n",
      "owners_incremented: 1\n",
      "users_incremented:  5\n",
      "pairs_deleted:      5\n",
      "{'owners_processed': 2, 'owners_with_show': 1, 'owners_incremented': 1, 'users_incremented': 5, 'pairs_deleted': 5, 'updated_owner_ids': ['a72993d7-c1ad-3821-3880-682f205e16f5'], 'updated_user_ids': ['2198cf88-326c-f14c-2af2-166fac09ce15', '96905bf7-e203-3f80-bac2-b73a5c237768', 'b862d2d0-73b8-1f25-e45d-96557f9cd8bf', 'e6796afe-d255-afd9-4b69-cf917fd3850f', '95208094-0613-b31d-a15d-bd832185cabf'], 'deleted_pair_ids': ['9b0a0449-f033-b48f-d19c-6c66209ee36e', 'a3cea039-0d7e-c749-6145-e5760e5f0877', '6f0a4f80-a5d8-b36e-ba00-0a2384c05db6', '2cdb42d8-0c66-8f81-067e-e532b7565c0b', 'b75be42c-7f5f-cd92-a563-5fc543277e02'], 'dry_run': False}\n"
     ]
    }
   ],
   "source": [
    "# If you already added organize_dataset_after_showings to utils, import it.\n",
    "# Otherwise, define it earlier or copy in the implementation we discussed.\n",
    "try:\n",
    "    from utils.qdrant_connection import organize_dataset_after_showings\n",
    "except ImportError:\n",
    "    raise RuntimeError(\"organize_dataset_after_showings not found. Make sure it's available in utils.qdrant_connection\")\n",
    "\n",
    "# Dry run (no writes) to preview effects\n",
    "summary_preview = organize_dataset_after_showings(results, top_k_for_recovery=10, dry_run=False)\n",
    "print(summary_preview)\n",
    "\n",
    "# If everything looks good, actually apply:\n",
    "# summary_applied = organize_dataset_after_showings(results, top_k_for_recovery=10, dry_run=False)\n",
    "# print(summary_applied)\n"
   ]
  }
 ],
 "metadata": {
  "kernelspec": {
   "display_name": "Python 3",
   "language": "python",
   "name": "python3"
  },
  "language_info": {
   "codemirror_mode": {
    "name": "ipython",
    "version": 3
   },
   "file_extension": ".py",
   "mimetype": "text/x-python",
   "name": "python",
   "nbconvert_exporter": "python",
   "pygments_lexer": "ipython3",
   "version": "3.11.9"
  }
 },
 "nbformat": 4,
 "nbformat_minor": 5
}
