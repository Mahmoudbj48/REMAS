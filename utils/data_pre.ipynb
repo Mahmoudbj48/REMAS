{
 "cells": [
  {
   "cell_type": "markdown",
   "id": "9a84da20",
   "metadata": {},
   "source": [
    "imports"
   ]
  },
  {
   "cell_type": "code",
   "execution_count": null,
   "id": "131e2657",
   "metadata": {},
   "outputs": [],
   "source": [
    "! pip install bs4"
   ]
  },
  {
   "cell_type": "code",
   "execution_count": 2,
   "id": "47ac69d8",
   "metadata": {},
   "outputs": [],
   "source": [
    "import pandas as pd\n",
    "import numpy as np\n",
    "import re\n",
    "import html\n",
    "from bs4 import BeautifulSoup"
   ]
  },
  {
   "cell_type": "code",
   "execution_count": 5,
   "id": "43879432",
   "metadata": {},
   "outputs": [
    {
     "name": "stdout",
     "output_type": "stream",
     "text": [
      "🔍 Missing values per column:\n",
      "id                            0\n",
      "description                2832\n",
      "neighborhood_overview    101641\n",
      "bedrooms                  22500\n",
      "price                         0\n",
      "available_from                0\n",
      "state                         0\n",
      "picture_url                   1\n",
      "dtype: int64\n",
      "\n",
      "📊 Data types:\n",
      "id                       float64\n",
      "description               object\n",
      "neighborhood_overview     object\n",
      "bedrooms                 float64\n",
      "price                      int64\n",
      "available_from            object\n",
      "state                     object\n",
      "picture_url               object\n",
      "dtype: object\n"
     ]
    }
   ],
   "source": [
    "# Load CSV\n",
    "csv_path = '../data/original/all_us_listings.csv'\n",
    "df = pd.read_csv(csv_path)\n",
    "\n",
    "# -------- STEP 1: Basic Info --------\n",
    "print(\"🔍 Missing values per column:\")\n",
    "print(df.isnull().sum())\n",
    "\n",
    "print(\"\\n📊 Data types:\")\n",
    "print(df.dtypes)\n",
    "\n"
   ]
  },
  {
   "cell_type": "markdown",
   "id": "28be3a39",
   "metadata": {},
   "source": [
    "### data preprocess "
   ]
  },
  {
   "cell_type": "code",
   "execution_count": 6,
   "id": "19bdb601",
   "metadata": {},
   "outputs": [],
   "source": [
    "# -------- STEP 2: Data Cleaning --------\n",
    "\n",
    "# 1. Drop listings with missing critical fields\n",
    "critical_fields = ['id', 'description', 'price', 'bedrooms', 'available_from', 'state', 'picture_url']\n",
    "df = df.dropna(subset=critical_fields)\n",
    "\n",
    "# 2. Bedrooms: Ensure integer and filter out unrealistic values\n",
    "df['bedrooms'] = pd.to_numeric(df['bedrooms'], errors='coerce')\n",
    "df = df[df['bedrooms'].between(1, 10)]\n",
    "\n",
    "# 3. Normalize 'price' — replace with synthetic monthly rent (e.g., sample from a fixed set)\n",
    "monthly_rent_options = [800, 1200, 1600, 2000, 2400, 3000]\n",
    "df['price'] = np.random.choice(monthly_rent_options, size=len(df))\n",
    "\n",
    "# 4. Normalize 'available_from' to uppercase month names\n",
    "df['available_from'] = df['available_from'].astype(str).str.upper().str.strip()\n",
    "\n",
    "# 5. Standardize 'state' values (remove extra spaces/caps)\n",
    "df['state'] = df['state'].astype(str).str.upper().str.strip()\n"
   ]
  },
  {
   "cell_type": "code",
   "execution_count": 7,
   "id": "123af923",
   "metadata": {},
   "outputs": [
    {
     "name": "stdout",
     "output_type": "stream",
     "text": [
      "\n",
      "✅ Cleaned shape: (243305, 8)\n"
     ]
    }
   ],
   "source": [
    "# -------- STEP 3: Final Checks --------\n",
    "print(\"\\n✅ Cleaned shape:\", df.shape)"
   ]
  },
  {
   "cell_type": "code",
   "execution_count": 8,
   "id": "bd1a1aed",
   "metadata": {},
   "outputs": [
    {
     "name": "stdout",
     "output_type": "stream",
     "text": [
      "\n",
      "📝 Example 'soft_attributes':\n",
      "2     30 night minimum stay<br /><br /><b>The space<...\n",
      "10    Nestled on a hillside overlooking Kalapaki Bay...\n",
      "73    We are opening this room to host women who are...\n",
      "Name: soft_attributes, dtype: object\n"
     ]
    }
   ],
   "source": [
    "# Fill missing text fields with empty strings to avoid NaNs during concatenation\n",
    "df['description'] = df['description'].fillna('')\n",
    "df['neighborhood_overview'] = df['neighborhood_overview'].fillna('')\n",
    "\n",
    "# Create the new 'soft_attributes' column\n",
    "df['soft_attributes'] = df['description'].str.strip() + \" neighborhood \" + df['neighborhood_overview'].str.strip()\n",
    "\n",
    "# Drop the original columns\n",
    "df = df.drop(columns=['description', 'neighborhood_overview'])\n",
    "\n",
    "# Optional: Show a sample\n",
    "print(\"\\n📝 Example 'soft_attributes':\")\n",
    "print(df['soft_attributes'].head(3))\n"
   ]
  },
  {
   "cell_type": "code",
   "execution_count": 9,
   "id": "ea80d093",
   "metadata": {},
   "outputs": [
    {
     "name": "stdout",
     "output_type": "stream",
     "text": [
      "id                 0\n",
      "bedrooms           0\n",
      "price              0\n",
      "available_from     0\n",
      "state              0\n",
      "picture_url        0\n",
      "soft_attributes    0\n",
      "dtype: int64\n"
     ]
    }
   ],
   "source": [
    "print(df.isnull().sum())"
   ]
  },
  {
   "cell_type": "markdown",
   "id": "376474b3",
   "metadata": {},
   "source": [
    "Data Cleaning & Preprocessing "
   ]
  },
  {
   "cell_type": "code",
   "execution_count": 10,
   "id": "b07ff097",
   "metadata": {},
   "outputs": [],
   "source": [
    "def clean_airbnb_listings(df: pd.DataFrame) -> pd.DataFrame:\n",
    "    # -----------------------------\n",
    "    # a. Structured Data Cleaning\n",
    "    # -----------------------------\n",
    "\n",
    "    # Drop rows with missing critical fields\n",
    "    critical_fields = ['id', 'soft_attributes', 'price', 'bedrooms', 'available_from', 'state']\n",
    "    df = df.dropna(subset=critical_fields)\n",
    "\n",
    "    # Convert types\n",
    "    df['price'] = pd.to_numeric(df['price'], errors='coerce')\n",
    "    df['bedrooms'] = pd.to_numeric(df['bedrooms'], downcast='integer', errors='coerce')\n",
    "\n",
    "    # Filter invalid bedrooms\n",
    "    df = df[df['bedrooms'].between(1, 10)]\n",
    "\n",
    "    # Drop outliers and invalid price entries\n",
    "    df = df[df['price'].between(500, 10000)]\n",
    "\n",
    "    # Normalize month name format (uppercase, trimmed)\n",
    "    df['available_from'] = df['available_from'].astype(str).str.upper().str.strip()\n",
    "\n",
    "    # Standardize state values\n",
    "    df['state'] = df['state'].astype(str).str.upper().str.strip()\n",
    "\n",
    "    # -----------------------------\n",
    "    # b. Unstructured Text Preprocessing\n",
    "    # -----------------------------\n",
    "\n",
    "    def clean_text(text):\n",
    "        if pd.isna(text):\n",
    "            return ''\n",
    "        # Unescape HTML entities\n",
    "        text = html.unescape(text)\n",
    "        # Remove HTML tags\n",
    "        text = BeautifulSoup(text, \"html.parser\").get_text()\n",
    "        # Normalize unicode\n",
    "        text = text.encode(\"utf-8\", \"ignore\").decode(\"utf-8\")\n",
    "        # Remove excessive whitespace\n",
    "        text = re.sub(r'\\s+', ' ', text)\n",
    "        return text.strip()\n",
    "\n",
    "    df['soft_attributes'] = df['soft_attributes'].apply(clean_text)\n",
    "\n",
    "    # -----------------------------\n",
    "    # c. Deduplication & Filtering\n",
    "    # -----------------------------\n",
    "\n",
    "    # Drop duplicate listings by 'id'\n",
    "    df = df.drop_duplicates(subset='id')\n",
    "\n",
    "    # Optionally: Drop listings with very short soft_attributes\n",
    "    df = df[df['soft_attributes'].str.len() > 30]\n",
    "\n",
    "    return df\n"
   ]
  },
  {
   "cell_type": "code",
   "execution_count": 11,
   "id": "2bf57dca",
   "metadata": {},
   "outputs": [],
   "source": [
    "df = clean_airbnb_listings(df)"
   ]
  },
  {
   "cell_type": "code",
   "execution_count": 12,
   "id": "1e9b6aeb",
   "metadata": {},
   "outputs": [],
   "source": [
    "df.to_csv('../data/processed/cleaned_airbnb_listings.csv', index=False)"
   ]
  },
  {
   "cell_type": "code",
   "execution_count": 13,
   "id": "309ae08b",
   "metadata": {},
   "outputs": [
    {
     "data": {
      "text/plain": [
       "Index(['id', 'bedrooms', 'price', 'available_from', 'state', 'picture_url',\n",
       "       'soft_attributes'],\n",
       "      dtype='object')"
      ]
     },
     "execution_count": 13,
     "metadata": {},
     "output_type": "execute_result"
    }
   ],
   "source": [
    "df = pd.read_csv('../data/processed/cleaned_airbnb_listings.csv')\n",
    "df.columns"
   ]
  }
 ],
 "metadata": {
  "kernelspec": {
   "display_name": "Python 3",
   "language": "python",
   "name": "python3"
  },
  "language_info": {
   "codemirror_mode": {
    "name": "ipython",
    "version": 3
   },
   "file_extension": ".py",
   "mimetype": "text/x-python",
   "name": "python",
   "nbconvert_exporter": "python",
   "pygments_lexer": "ipython3",
   "version": "3.11.9"
  }
 },
 "nbformat": 4,
 "nbformat_minor": 5
}
